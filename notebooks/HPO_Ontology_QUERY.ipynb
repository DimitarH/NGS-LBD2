{
  "nbformat": 4,
  "nbformat_minor": 0,
  "metadata": {
    "colab": {
      "name": "HPO Ontology - QUERY.ipynb",
      "provenance": [],
      "include_colab_link": true
    },
    "kernelspec": {
      "name": "python3",
      "display_name": "Python 3"
    },
    "language_info": {
      "name": "python"
    }
  },
  "cells": [
    {
      "cell_type": "markdown",
      "metadata": {
        "id": "view-in-github",
        "colab_type": "text"
      },
      "source": [
        "<a href=\"https://colab.research.google.com/github/lbdlab/NGS-LBD/blob/master/notebooks/HPO_Ontology_QUERY.ipynb\" target=\"_parent\"><img src=\"https://colab.research.google.com/assets/colab-badge.svg\" alt=\"Open In Colab\"/></a>"
      ]
    },
    {
      "cell_type": "code",
      "metadata": {
        "colab": {
          "base_uri": "https://localhost:8080/"
        },
        "id": "X3urfSEmLGgB",
        "outputId": "9c48ebc7-435c-40ed-81d3-74aced708057"
      },
      "source": [
        "pip install neo4j pandas seaborn matplotlib\n"
      ],
      "execution_count": 1,
      "outputs": [
        {
          "output_type": "stream",
          "name": "stdout",
          "text": [
            "Collecting neo4j\n",
            "  Downloading neo4j-4.4.0.tar.gz (89 kB)\n",
            "\u001b[K     |████████████████████████████████| 89 kB 2.7 MB/s \n",
            "\u001b[?25hRequirement already satisfied: pandas in /usr/local/lib/python3.7/dist-packages (1.1.5)\n",
            "Requirement already satisfied: seaborn in /usr/local/lib/python3.7/dist-packages (0.11.2)\n",
            "Requirement already satisfied: matplotlib in /usr/local/lib/python3.7/dist-packages (3.2.2)\n",
            "Requirement already satisfied: pytz in /usr/local/lib/python3.7/dist-packages (from neo4j) (2018.9)\n",
            "Requirement already satisfied: python-dateutil>=2.7.3 in /usr/local/lib/python3.7/dist-packages (from pandas) (2.8.2)\n",
            "Requirement already satisfied: numpy>=1.15.4 in /usr/local/lib/python3.7/dist-packages (from pandas) (1.19.5)\n",
            "Requirement already satisfied: six>=1.5 in /usr/local/lib/python3.7/dist-packages (from python-dateutil>=2.7.3->pandas) (1.15.0)\n",
            "Requirement already satisfied: scipy>=1.0 in /usr/local/lib/python3.7/dist-packages (from seaborn) (1.4.1)\n",
            "Requirement already satisfied: cycler>=0.10 in /usr/local/lib/python3.7/dist-packages (from matplotlib) (0.11.0)\n",
            "Requirement already satisfied: pyparsing!=2.0.4,!=2.1.2,!=2.1.6,>=2.0.1 in /usr/local/lib/python3.7/dist-packages (from matplotlib) (3.0.6)\n",
            "Requirement already satisfied: kiwisolver>=1.0.1 in /usr/local/lib/python3.7/dist-packages (from matplotlib) (1.3.2)\n",
            "Building wheels for collected packages: neo4j\n",
            "  Building wheel for neo4j (setup.py) ... \u001b[?25l\u001b[?25hdone\n",
            "  Created wheel for neo4j: filename=neo4j-4.4.0-py3-none-any.whl size=114860 sha256=b5c2729c90483ddbff6f9a0d5d3101da0343719064c008f6618892b233ebc944\n",
            "  Stored in directory: /root/.cache/pip/wheels/b8/cb/e4/d34e10b40d33911c281a6e9aa038d54ca7435310529b3f6042\n",
            "Successfully built neo4j\n",
            "Installing collected packages: neo4j\n",
            "Successfully installed neo4j-4.4.0\n"
          ]
        }
      ]
    },
    {
      "cell_type": "code",
      "metadata": {
        "id": "J2pDGLlHLNRv"
      },
      "source": [
        "from neo4j import GraphDatabase\n",
        "import pandas as pd"
      ],
      "execution_count": 2,
      "outputs": []
    },
    {
      "cell_type": "code",
      "metadata": {
        "id": "lXCf08TzLPtJ"
      },
      "source": [
        "# Connect to Neo4j\n",
        "driver = GraphDatabase.driver('neo4j://212.235.239.171:22333', auth=('neo4j', 'ngslbd2020'))\n",
        "\n",
        "def run_query(query, params={}):\n",
        "    with driver.session(database=\"hpo\") as session:\n",
        "        result = session.run(query, params)\n",
        "        return pd.DataFrame([r.values() for r in result], columns=result.keys())"
      ],
      "execution_count": 3,
      "outputs": []
    },
    {
      "cell_type": "code",
      "metadata": {
        "colab": {
          "base_uri": "https://localhost:8080/",
          "height": 457
        },
        "id": "ruvmPW-RLRNz",
        "outputId": "61d19e08-265a-4979-e938-ffffc1559e86"
      },
      "source": [
        "run_query(\"\"\"\n",
        "MATCH p=(h:HPO)-[:IS_A*]->(parent)\n",
        "WHERE h.name = \"Abnormal prostate morphology\"\n",
        "RETURN p, h.id, h.name, parent.id, parent.name\n",
        "\"\"\")"
      ],
      "execution_count": 7,
      "outputs": [
        {
          "output_type": "execute_result",
          "data": {
            "text/html": [
              "<div>\n",
              "<style scoped>\n",
              "    .dataframe tbody tr th:only-of-type {\n",
              "        vertical-align: middle;\n",
              "    }\n",
              "\n",
              "    .dataframe tbody tr th {\n",
              "        vertical-align: top;\n",
              "    }\n",
              "\n",
              "    .dataframe thead th {\n",
              "        text-align: right;\n",
              "    }\n",
              "</style>\n",
              "<table border=\"1\" class=\"dataframe\">\n",
              "  <thead>\n",
              "    <tr style=\"text-align: right;\">\n",
              "      <th></th>\n",
              "      <th>p</th>\n",
              "      <th>h.id</th>\n",
              "      <th>h.name</th>\n",
              "      <th>parent.id</th>\n",
              "      <th>parent.name</th>\n",
              "    </tr>\n",
              "  </thead>\n",
              "  <tbody>\n",
              "    <tr>\n",
              "      <th>0</th>\n",
              "      <td>(())</td>\n",
              "      <td>HP:0008775</td>\n",
              "      <td>Abnormal prostate morphology</td>\n",
              "      <td>HP:0000022</td>\n",
              "      <td>Abnormality of male internal genitalia</td>\n",
              "    </tr>\n",
              "    <tr>\n",
              "      <th>1</th>\n",
              "      <td>((), ())</td>\n",
              "      <td>HP:0008775</td>\n",
              "      <td>Abnormal prostate morphology</td>\n",
              "      <td>HP:0010461</td>\n",
              "      <td>Abnormality of the male genitalia</td>\n",
              "    </tr>\n",
              "    <tr>\n",
              "      <th>2</th>\n",
              "      <td>((), (), ())</td>\n",
              "      <td>HP:0008775</td>\n",
              "      <td>Abnormal prostate morphology</td>\n",
              "      <td>HP:0012243</td>\n",
              "      <td>Abnormal reproductive system morphology</td>\n",
              "    </tr>\n",
              "    <tr>\n",
              "      <th>3</th>\n",
              "      <td>((), (), (), ())</td>\n",
              "      <td>HP:0008775</td>\n",
              "      <td>Abnormal prostate morphology</td>\n",
              "      <td>HP:0000078</td>\n",
              "      <td>Abnormality of the genital system</td>\n",
              "    </tr>\n",
              "    <tr>\n",
              "      <th>4</th>\n",
              "      <td>((), (), (), (), ())</td>\n",
              "      <td>HP:0008775</td>\n",
              "      <td>Abnormal prostate morphology</td>\n",
              "      <td>HP:0000119</td>\n",
              "      <td>Abnormality of the genitourinary system</td>\n",
              "    </tr>\n",
              "    <tr>\n",
              "      <th>5</th>\n",
              "      <td>((), (), (), (), (), ())</td>\n",
              "      <td>HP:0008775</td>\n",
              "      <td>Abnormal prostate morphology</td>\n",
              "      <td>HP:0000118</td>\n",
              "      <td>Phenotypic abnormality</td>\n",
              "    </tr>\n",
              "    <tr>\n",
              "      <th>6</th>\n",
              "      <td>((), (), (), (), (), (), ())</td>\n",
              "      <td>HP:0008775</td>\n",
              "      <td>Abnormal prostate morphology</td>\n",
              "      <td>HP:0000001</td>\n",
              "      <td>All</td>\n",
              "    </tr>\n",
              "    <tr>\n",
              "      <th>7</th>\n",
              "      <td>((), ())</td>\n",
              "      <td>HP:0008775</td>\n",
              "      <td>Abnormal prostate morphology</td>\n",
              "      <td>HP:0000812</td>\n",
              "      <td>Abnormal internal genitalia</td>\n",
              "    </tr>\n",
              "    <tr>\n",
              "      <th>8</th>\n",
              "      <td>((), (), ())</td>\n",
              "      <td>HP:0008775</td>\n",
              "      <td>Abnormal prostate morphology</td>\n",
              "      <td>HP:0012243</td>\n",
              "      <td>Abnormal reproductive system morphology</td>\n",
              "    </tr>\n",
              "    <tr>\n",
              "      <th>9</th>\n",
              "      <td>((), (), (), ())</td>\n",
              "      <td>HP:0008775</td>\n",
              "      <td>Abnormal prostate morphology</td>\n",
              "      <td>HP:0000078</td>\n",
              "      <td>Abnormality of the genital system</td>\n",
              "    </tr>\n",
              "    <tr>\n",
              "      <th>10</th>\n",
              "      <td>((), (), (), (), ())</td>\n",
              "      <td>HP:0008775</td>\n",
              "      <td>Abnormal prostate morphology</td>\n",
              "      <td>HP:0000119</td>\n",
              "      <td>Abnormality of the genitourinary system</td>\n",
              "    </tr>\n",
              "    <tr>\n",
              "      <th>11</th>\n",
              "      <td>((), (), (), (), (), ())</td>\n",
              "      <td>HP:0008775</td>\n",
              "      <td>Abnormal prostate morphology</td>\n",
              "      <td>HP:0000118</td>\n",
              "      <td>Phenotypic abnormality</td>\n",
              "    </tr>\n",
              "    <tr>\n",
              "      <th>12</th>\n",
              "      <td>((), (), (), (), (), (), ())</td>\n",
              "      <td>HP:0008775</td>\n",
              "      <td>Abnormal prostate morphology</td>\n",
              "      <td>HP:0000001</td>\n",
              "      <td>All</td>\n",
              "    </tr>\n",
              "  </tbody>\n",
              "</table>\n",
              "</div>"
            ],
            "text/plain": [
              "                               p  ...                              parent.name\n",
              "0                           (())  ...   Abnormality of male internal genitalia\n",
              "1                       ((), ())  ...        Abnormality of the male genitalia\n",
              "2                   ((), (), ())  ...  Abnormal reproductive system morphology\n",
              "3               ((), (), (), ())  ...        Abnormality of the genital system\n",
              "4           ((), (), (), (), ())  ...  Abnormality of the genitourinary system\n",
              "5       ((), (), (), (), (), ())  ...                   Phenotypic abnormality\n",
              "6   ((), (), (), (), (), (), ())  ...                                      All\n",
              "7                       ((), ())  ...              Abnormal internal genitalia\n",
              "8                   ((), (), ())  ...  Abnormal reproductive system morphology\n",
              "9               ((), (), (), ())  ...        Abnormality of the genital system\n",
              "10          ((), (), (), (), ())  ...  Abnormality of the genitourinary system\n",
              "11      ((), (), (), (), (), ())  ...                   Phenotypic abnormality\n",
              "12  ((), (), (), (), (), (), ())  ...                                      All\n",
              "\n",
              "[13 rows x 5 columns]"
            ]
          },
          "metadata": {},
          "execution_count": 7
        }
      ]
    },
    {
      "cell_type": "code",
      "metadata": {
        "colab": {
          "base_uri": "https://localhost:8080/"
        },
        "id": "O7919HOZLWqS",
        "outputId": "92818b31-ada1-44ea-f29d-ad3d12654628"
      },
      "source": [
        "run_query(\"\"\"\n",
        "MATCH p=(h:HPO)-[:IS_A*0..]->(parents)\n",
        "WHERE h.name = \"Abnormal prostate morphology\"\n",
        "RETURN collect(distinct parents.name) AS result\n",
        "\"\"\")['result'].to_list()"
      ],
      "execution_count": 8,
      "outputs": [
        {
          "output_type": "execute_result",
          "data": {
            "text/plain": [
              "[['Abnormal prostate morphology',\n",
              "  'Abnormality of male internal genitalia',\n",
              "  'Abnormality of the male genitalia',\n",
              "  'Abnormal reproductive system morphology',\n",
              "  'Abnormality of the genital system',\n",
              "  'Abnormality of the genitourinary system',\n",
              "  'Phenotypic abnormality',\n",
              "  'All',\n",
              "  'Abnormal internal genitalia']]"
            ]
          },
          "metadata": {},
          "execution_count": 8
        }
      ]
    },
    {
      "cell_type": "code",
      "metadata": {
        "id": "4PoqcHSTLhzh"
      },
      "source": [
        ""
      ],
      "execution_count": null,
      "outputs": []
    }
  ]
}