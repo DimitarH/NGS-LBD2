{
  "nbformat": 4,
  "nbformat_minor": 0,
  "metadata": {
    "colab": {
      "name": "LBD_Bilirubin_Modulation.ipynb",
      "provenance": [],
      "collapsed_sections": [],
      "authorship_tag": "ABX9TyN3jND+cBc9TsB/CNhrP8CB",
      "include_colab_link": true
    },
    "kernelspec": {
      "name": "python3",
      "display_name": "Python 3"
    },
    "language_info": {
      "name": "python"
    }
  },
  "cells": [
    {
      "cell_type": "markdown",
      "metadata": {
        "id": "view-in-github",
        "colab_type": "text"
      },
      "source": [
        "<a href=\"https://colab.research.google.com/github/lbdlab/NGS-LBD/blob/master/notebooks/LBD_Bilirubin_Modulation.ipynb\" target=\"_parent\"><img src=\"https://colab.research.google.com/assets/colab-badge.svg\" alt=\"Open In Colab\"/></a>"
      ]
    },
    {
      "cell_type": "markdown",
      "metadata": {
        "id": "iOSqtA0T4apb"
      },
      "source": [
        "# **LBD - Bilirubin Modulation**"
      ]
    },
    {
      "cell_type": "code",
      "metadata": {
        "colab": {
          "base_uri": "https://localhost:8080/",
          "height": 1000
        },
        "id": "cSTQc-bW47fG",
        "outputId": "b926240b-bd04-4189-8e4d-3e60bd9ce7ac"
      },
      "source": [
        "!pip install neo4j pandas seaborn matplotlib biopython py2neo"
      ],
      "execution_count": null,
      "outputs": [
        {
          "output_type": "stream",
          "text": [
            "Requirement already satisfied: neo4j in /usr/local/lib/python3.7/dist-packages (4.3.1)\n",
            "Requirement already satisfied: pandas in /usr/local/lib/python3.7/dist-packages (1.1.5)\n",
            "Requirement already satisfied: seaborn in /usr/local/lib/python3.7/dist-packages (0.11.1)\n",
            "Requirement already satisfied: matplotlib in /usr/local/lib/python3.7/dist-packages (3.2.2)\n",
            "Requirement already satisfied: biopython in /usr/local/lib/python3.7/dist-packages (1.79)\n",
            "Collecting py2neo\n",
            "\u001b[?25l  Downloading https://files.pythonhosted.org/packages/ab/66/398d7b1e612b6bb0977f4be90dab246f1140549f3c24fc5da539d6b2282a/py2neo-2021.1.5-py2.py3-none-any.whl (204kB)\n",
            "\r\u001b[K     |█▋                              | 10kB 15.6MB/s eta 0:00:01\r\u001b[K     |███▏                            | 20kB 20.8MB/s eta 0:00:01\r\u001b[K     |████▉                           | 30kB 23.1MB/s eta 0:00:01\r\u001b[K     |██████▍                         | 40kB 25.3MB/s eta 0:00:01\r\u001b[K     |████████                        | 51kB 27.0MB/s eta 0:00:01\r\u001b[K     |█████████▋                      | 61kB 28.2MB/s eta 0:00:01\r\u001b[K     |███████████▏                    | 71kB 29.4MB/s eta 0:00:01\r\u001b[K     |████████████▉                   | 81kB 29.2MB/s eta 0:00:01\r\u001b[K     |██████████████▍                 | 92kB 25.8MB/s eta 0:00:01\r\u001b[K     |████████████████                | 102kB 25.7MB/s eta 0:00:01\r\u001b[K     |█████████████████▋              | 112kB 25.7MB/s eta 0:00:01\r\u001b[K     |███████████████████▏            | 122kB 25.7MB/s eta 0:00:01\r\u001b[K     |████████████████████▉           | 133kB 25.7MB/s eta 0:00:01\r\u001b[K     |██████████████████████▍         | 143kB 25.7MB/s eta 0:00:01\r\u001b[K     |████████████████████████        | 153kB 25.7MB/s eta 0:00:01\r\u001b[K     |█████████████████████████▋      | 163kB 25.7MB/s eta 0:00:01\r\u001b[K     |███████████████████████████▎    | 174kB 25.7MB/s eta 0:00:01\r\u001b[K     |████████████████████████████▉   | 184kB 25.7MB/s eta 0:00:01\r\u001b[K     |██████████████████████████████▍ | 194kB 25.7MB/s eta 0:00:01\r\u001b[K     |████████████████████████████████| 204kB 25.7MB/s \n",
            "\u001b[?25hRequirement already satisfied: pytz in /usr/local/lib/python3.7/dist-packages (from neo4j) (2018.9)\n",
            "Requirement already satisfied: python-dateutil>=2.7.3 in /usr/local/lib/python3.7/dist-packages (from pandas) (2.8.1)\n",
            "Requirement already satisfied: numpy>=1.15.4 in /usr/local/lib/python3.7/dist-packages (from pandas) (1.19.5)\n",
            "Requirement already satisfied: scipy>=1.0 in /usr/local/lib/python3.7/dist-packages (from seaborn) (1.4.1)\n",
            "Requirement already satisfied: cycler>=0.10 in /usr/local/lib/python3.7/dist-packages (from matplotlib) (0.10.0)\n",
            "Requirement already satisfied: pyparsing!=2.0.4,!=2.1.2,!=2.1.6,>=2.0.1 in /usr/local/lib/python3.7/dist-packages (from matplotlib) (2.4.7)\n",
            "Requirement already satisfied: kiwisolver>=1.0.1 in /usr/local/lib/python3.7/dist-packages (from matplotlib) (1.3.1)\n",
            "Requirement already satisfied: certifi in /usr/local/lib/python3.7/dist-packages (from py2neo) (2021.5.30)\n",
            "Collecting pansi>=2020.7.3\n",
            "  Downloading https://files.pythonhosted.org/packages/0b/15/7972e08b7ec14a8b10d5ff206c644d4478906c909c134123ed7e6bd16724/pansi-2020.7.3-py2.py3-none-any.whl\n",
            "Collecting prompt-toolkit>=2.0.7; python_version >= \"3.6\"\n",
            "\u001b[?25l  Downloading https://files.pythonhosted.org/packages/1e/34/1d9880ac1339ad4c6697b330e7a507584105613751318249d9e820faa25f/prompt_toolkit-3.0.19-py3-none-any.whl (368kB)\n",
            "\u001b[K     |████████████████████████████████| 368kB 38.6MB/s \n",
            "\u001b[?25hCollecting cryptography\n",
            "\u001b[?25l  Downloading https://files.pythonhosted.org/packages/b2/26/7af637e6a7e87258b963f1731c5982fb31cd507f0d90d91836e446955d02/cryptography-3.4.7-cp36-abi3-manylinux2014_x86_64.whl (3.2MB)\n",
            "\u001b[K     |████████████████████████████████| 3.2MB 30.9MB/s \n",
            "\u001b[?25hRequirement already satisfied: six>=1.15.0 in /usr/local/lib/python3.7/dist-packages (from py2neo) (1.15.0)\n",
            "Collecting docker\n",
            "\u001b[?25l  Downloading https://files.pythonhosted.org/packages/b2/5a/f988909dfed18c1ac42ad8d9e611e6c5657e270aa6eb68559985dbb69c13/docker-5.0.0-py2.py3-none-any.whl (146kB)\n",
            "\u001b[K     |████████████████████████████████| 153kB 47.4MB/s \n",
            "\u001b[?25hCollecting english\n",
            "  Downloading https://files.pythonhosted.org/packages/05/1d/f1dd2cbd075c049a753815a0d1f29f29be3c09a62fb01a9ba74356bfee08/english-2020.7.0-py2.py3-none-any.whl\n",
            "Requirement already satisfied: packaging in /usr/local/lib/python3.7/dist-packages (from py2neo) (20.9)\n",
            "Requirement already satisfied: pygments>=2.0.0 in /usr/local/lib/python3.7/dist-packages (from py2neo) (2.6.1)\n",
            "Requirement already satisfied: urllib3 in /usr/local/lib/python3.7/dist-packages (from py2neo) (1.24.3)\n",
            "Collecting monotonic\n",
            "  Downloading https://files.pythonhosted.org/packages/9a/67/7e8406a29b6c45be7af7740456f7f37025f0506ae2e05fb9009a53946860/monotonic-1.6-py2.py3-none-any.whl\n",
            "Collecting neotime~=1.7.4\n",
            "  Downloading https://files.pythonhosted.org/packages/0b/7e/ca368a8d8e288be1352d4e2df35da1e01f8aaffbf526695df71630bcb8a6/neotime-1.7.4.tar.gz\n",
            "Requirement already satisfied: wcwidth in /usr/local/lib/python3.7/dist-packages (from prompt-toolkit>=2.0.7; python_version >= \"3.6\"->py2neo) (0.2.5)\n",
            "Requirement already satisfied: cffi>=1.12 in /usr/local/lib/python3.7/dist-packages (from cryptography->py2neo) (1.14.5)\n",
            "Collecting websocket-client>=0.32.0\n",
            "\u001b[?25l  Downloading https://files.pythonhosted.org/packages/ca/5f/3c211d168b2e9f9342cfb53bcfc26aab0eac63b998015e7af7bcae66119d/websocket_client-1.1.0-py2.py3-none-any.whl (68kB)\n",
            "\u001b[K     |████████████████████████████████| 71kB 8.9MB/s \n",
            "\u001b[?25hRequirement already satisfied: requests!=2.18.0,>=2.14.2 in /usr/local/lib/python3.7/dist-packages (from docker->py2neo) (2.23.0)\n",
            "Requirement already satisfied: pycparser in /usr/local/lib/python3.7/dist-packages (from cffi>=1.12->cryptography->py2neo) (2.20)\n",
            "Requirement already satisfied: chardet<4,>=3.0.2 in /usr/local/lib/python3.7/dist-packages (from requests!=2.18.0,>=2.14.2->docker->py2neo) (3.0.4)\n",
            "Requirement already satisfied: idna<3,>=2.5 in /usr/local/lib/python3.7/dist-packages (from requests!=2.18.0,>=2.14.2->docker->py2neo) (2.10)\n",
            "Building wheels for collected packages: neotime\n",
            "  Building wheel for neotime (setup.py) ... \u001b[?25l\u001b[?25hdone\n",
            "  Created wheel for neotime: filename=neotime-1.7.4-cp37-none-any.whl size=20564 sha256=d6578b827d2abe5fec46a846a3320e463af928fc6e3bbe9de625a5df7c64247b\n",
            "  Stored in directory: /root/.cache/pip/wheels/d4/b4/c4/ab867cd0ac9e667f8cd269f9364fd1cb8ee75fe50f5ce97c79\n",
            "Successfully built neotime\n",
            "\u001b[31mERROR: jupyter-console 5.2.0 has requirement prompt-toolkit<2.0.0,>=1.0.0, but you'll have prompt-toolkit 3.0.19 which is incompatible.\u001b[0m\n",
            "\u001b[31mERROR: ipython 5.5.0 has requirement prompt-toolkit<2.0.0,>=1.0.4, but you'll have prompt-toolkit 3.0.19 which is incompatible.\u001b[0m\n",
            "Installing collected packages: pansi, prompt-toolkit, cryptography, websocket-client, docker, english, monotonic, neotime, py2neo\n",
            "  Found existing installation: prompt-toolkit 1.0.18\n",
            "    Uninstalling prompt-toolkit-1.0.18:\n",
            "      Successfully uninstalled prompt-toolkit-1.0.18\n",
            "Successfully installed cryptography-3.4.7 docker-5.0.0 english-2020.7.0 monotonic-1.6 neotime-1.7.4 pansi-2020.7.3 prompt-toolkit-3.0.19 py2neo-2021.1.5 websocket-client-1.1.0\n"
          ],
          "name": "stdout"
        },
        {
          "output_type": "display_data",
          "data": {
            "application/vnd.colab-display-data+json": {
              "pip_warning": {
                "packages": [
                  "prompt_toolkit"
                ]
              }
            }
          },
          "metadata": {
            "tags": []
          }
        }
      ]
    },
    {
      "cell_type": "code",
      "metadata": {
        "id": "uIH9t63F5pqR"
      },
      "source": [
        "# Libraries\n",
        "%matplotlib inline\n",
        "from datetime import datetime\n",
        "import pandas as pd\n",
        "# from neo4j import GraphDatabase\n",
        "from py2neo import Graph\n",
        "\n"
      ],
      "execution_count": null,
      "outputs": []
    },
    {
      "cell_type": "code",
      "metadata": {
        "id": "lZrgcTsV8jS4"
      },
      "source": [
        "# Search in PubMed\n",
        "\n",
        "from Bio import Entrez\n",
        "\n",
        "Entrez.email = 'ziberna@gmail.com'\n"
      ],
      "execution_count": null,
      "outputs": []
    },
    {
      "cell_type": "code",
      "metadata": {
        "id": "3q7bQUr557T5"
      },
      "source": [
        "# # Connect to Neo4j\n",
        "# database_name = 'semmed4321'\n",
        "# driver = GraphDatabase.driver('neo4j://212.235.239.171:7687', auth=('neo4j', 'semMedDb2020'))\n",
        "\n",
        "# def read_query(query, params={}):\n",
        "#     with driver.session(database=database_name) as session:\n",
        "#         result = session.run(query, params)\n",
        "#         return pd.DataFrame([r.values() for r in result], columns=result.keys())"
      ],
      "execution_count": null,
      "outputs": []
    },
    {
      "cell_type": "code",
      "metadata": {
        "id": "4-jr2Jfv57n4"
      },
      "source": [
        "# Custom functions\n",
        "\n",
        "# Connect to graph function\n",
        "def get_graph_instance():\n",
        "    return Graph(\"bolt://212.235.239.171:7687\", user='neo4j', password='semMedDb2020', name='semmed4321')\n",
        "\n",
        "# Create PubMed link\n",
        "def generate_pubmed_url(*, pmid: int) -> str:\n",
        "    \"\"\"Generate PubMed URL from PMID.\n",
        "    \n",
        "    :param pmid: PubMed ID number of an article\n",
        "    :return: URL string\n",
        "    \"\"\"\n",
        "    pubmed_stem_url = 'https://pubmed.ncbi.nlm.nih.gov/'\n",
        "    pubmed_url = pubmed_stem_url + str(pmid)\n",
        "    return pubmed_url\n",
        "\n",
        "# Create dataframe and html file from output\n",
        "def create_df_html_from_query_output(*, output: list, html_file_name: str) -> pd.DataFrame:\n",
        "    \"\"\"\n",
        "    Create dataframe and save html file from Neo4J query results data.\n",
        "    \n",
        "    :param output: data output of a specific Neo4J query\n",
        "    :param html_file_name: filename of the saved html file\n",
        "    :return: dataframe of the output\n",
        "    \"\"\"\n",
        "    # Create dataframe from output\n",
        "    df = pd.DataFrame(output)\n",
        "\n",
        "    # Search for a specific PMID\n",
        "    all_pmid_list = df['c_xy.pmid'].to_list()\n",
        "\n",
        "    handle = Entrez.efetch(db='pubmed', id=all_pmid_list, retmode=\"xml\")\n",
        "    record = Entrez.read(handle)\n",
        "\n",
        "    # Extract Journal data\n",
        "    pmid_dict = {}\n",
        "\n",
        "    for article in record['PubmedArticle']:\n",
        "        # Extract data\n",
        "        try:\n",
        "            pmid = str(article['MedlineCitation']['PMID'])\n",
        "            journal_title = article['MedlineCitation']['Article']['Journal']['Title']\n",
        "            journal_title_abbreviation = article['MedlineCitation']['Article']['Journal']['ISOAbbreviation']\n",
        "            journal_issn = str(article['MedlineCitation']['Article']['Journal']['ISSN'])\n",
        "        except:\n",
        "            print('Not found PubMed data for PMID: ' + str(article['MedlineCitation']['PMID']))\n",
        "            pmid = journal_title = journal_title_abbreviation = journal_issn = 'Not found'\n",
        "\n",
        "        # Add to dict\n",
        "        pmid_dict[pmid] = {'pmid': pmid,\n",
        "                           'journal_title': journal_title,\n",
        "                           'journal_title_abbreviation': journal_title_abbreviation,\n",
        "                           'journal_issn': journal_issn}\n",
        "\n",
        "    # Add journal data to dataframe\n",
        "    df['journal_title'] = df['c_xy.pmid'].apply(\n",
        "        lambda x: add_values_from_dict(input_dict=pmid_dict, key1=x, key2='journal_title'))\n",
        "    df['journal_issn'] = df['c_xy.pmid'].apply(\n",
        "        lambda x: add_values_from_dict(input_dict=pmid_dict, key1=x, key2='journal_issn'))\n",
        "    \n",
        "\n",
        "    # Add PubMed URL\n",
        "    df['PubMed_URL'] = df['c_xy.pmid'].apply(lambda x: generate_pubmed_url(pmid=x))\n",
        "    \n",
        "    # Save dataframe to html\n",
        "    with open(html_file_name, 'w') as html_file:\n",
        "        html_string = df.to_html(render_links=True, notebook=False, show_dimensions=True, justify='center')\n",
        "        html_file.write(html_string)\n",
        "    \n",
        "    # Return generated dataframe\n",
        "    return df\n",
        "    \n",
        "\n",
        "def add_values_from_dict(*, input_dict: dict, key1: str, key2: str) -> str:\n",
        "    \"\"\"\n",
        "    Extract data from custom two level dictionary.\n",
        "    \"\"\"\n",
        "    try:\n",
        "        out = input_dict[key1][key2]\n",
        "    except Exception as e:\n",
        "        print('Error in extracting data from dict.')\n",
        "        print(repr(e))\n",
        "        out = 'Not found'\n",
        "    \n",
        "    return out\n",
        "\n"
      ],
      "execution_count": null,
      "outputs": []
    },
    {
      "cell_type": "markdown",
      "metadata": {
        "id": "uITQixXd9hDK"
      },
      "source": [
        "\n",
        "\n",
        "---\n",
        "## Heme Oxygenase-1\n",
        "\n",
        "### Different names\n",
        "\n",
        "Heme Oxygenase-1 (C0538674)\n",
        "HMOX1 protein, human (C1565861)\n",
        "\n",
        "### Partially connected\n",
        "Heme Oxygenase (Decyclizing) (C0018969)\n",
        "Hmox1 protein, mouse (C1565862)\n",
        "Hmox1 protein, rat (C1453914)\n",
        "\n",
        "heme oxygenase-2 (C0537535)\n",
        "heme oxygenase-3 protein, human (C1435054)\n",
        "\n",
        "### SemBT relations\n",
        "http://sembt.mf.uni-lj.si/user_guide/SemBT_relation_types_and_instances_counts.html\n",
        "\n",
        "AFFECTS\t1008068\t2124063\n",
        "INTERACTS_WITH\t956926\t1824826\n",
        "\n",
        "ASSOCIATED_WITH\t544318\t1316494\n",
        "STIMULATES\t442904\t845725\n",
        "INHIBITS\t424125\t749490\n",
        "AUGMENTS\n",
        "\n",
        "\n"
      ]
    },
    {
      "cell_type": "code",
      "metadata": {
        "id": "7j-WhnGw57q3"
      },
      "source": [
        "query = \"\"\"\n",
        "MATCH (x:Concept)-[r_xy]-(y:Concept)\n",
        "WHERE \n",
        "(x:phsu OR x:aapp OR x:chem OR x:orch OR x:inch OR x:sbst OR x:clnd) AND\n",
        "// (x:phsu OR x:aapp) AND\n",
        "(r_xy:AFFECTS OR r_xy:NEG_AFFECTS OR \n",
        "r_xy:ASSOCIATED_WITH OR r_xy:NEG_ASSOCIATED_WITH OR \n",
        "r_xy:STIMULATES OR r_xy:NEG_STIMULATES OR \n",
        "r_xy:INHIBITS OR r_xy:NEG_INHIBITS OR \n",
        "r_xy:INTERACTS_WITH OR r_xy:NEG_INTERACTS_WITH OR \n",
        "r_xy:AUGMENTS OR r_xy:NEG_AUGMENTS) AND\n",
        "y.cui in ['C0538674', 'C1565861']\n",
        "\n",
        "WITH x, r_xy, y ORDER BY r_xy.freq DESC LIMIT 100\n",
        "\n",
        "CALL {\n",
        "    WITH x, r_xy, y\n",
        "    MATCH (c_xy)<-[r_in_xy:IS_IN]-(s_xy)<-[r_extr_xy:Extracted_From]-(i_xy:Instance {predicate: type(r_xy)})-[r_sub_x:Inst_Subject]->(x),\n",
        "      (i_xy)-[r_obj_y:Inst_Object]->(y)\n",
        "    RETURN c_xy, s_xy, i_xy LIMIT 10\n",
        "}\n",
        "\n",
        "RETURN DISTINCT x.name,\n",
        "type(r_xy), \n",
        "y.name,\n",
        "r_xy.freq, r_xy.min_pyear,\n",
        "c_xy.pmid, c_xy.pyear, c_xy.issn,\n",
        "i_xy.predicate, i_xy.indicator_type,\n",
        "s_xy.normalized_section_header, s_xy.sentence\n",
        "\n",
        "\"\"\""
      ],
      "execution_count": null,
      "outputs": []
    },
    {
      "cell_type": "code",
      "metadata": {
        "id": "UmBk6-gy-KCB"
      },
      "source": [
        "# Query\n",
        "start_time = datetime.now()\n",
        "\n",
        "# Run query\n",
        "graph = get_graph_instance()\n",
        "output = graph.run(query).data()\n",
        "\n",
        "end_time = datetime.now()\n",
        "\n",
        "# Time needed\n",
        "print('Time needed: ' + str(end_time - start_time))\n",
        "\n",
        "# Output size\n",
        "print('Output rows: ' + str(len(output)))\n"
      ],
      "execution_count": null,
      "outputs": []
    },
    {
      "cell_type": "code",
      "metadata": {
        "id": "vph1EQDP-NOO"
      },
      "source": [
        "# Create dataframe and HTML file\n",
        "hox1_df = create_df_html_from_query_output(output=output, html_file_name='outputs/heme_oxygenase-1.html')\n"
      ],
      "execution_count": null,
      "outputs": []
    },
    {
      "cell_type": "code",
      "metadata": {
        "id": "RV13Zpdt-ZrR"
      },
      "source": [
        "hox1_df"
      ],
      "execution_count": null,
      "outputs": []
    },
    {
      "cell_type": "code",
      "metadata": {
        "id": "9jqi0mSm-dQ3"
      },
      "source": [
        "# Unique compunds\n",
        "hox1_df['x.name'].value_counts().iloc[0:10]\n"
      ],
      "execution_count": null,
      "outputs": []
    },
    {
      "cell_type": "code",
      "metadata": {
        "id": "kJe7F4tRAfJD"
      },
      "source": [
        ""
      ],
      "execution_count": null,
      "outputs": []
    }
  ]
}