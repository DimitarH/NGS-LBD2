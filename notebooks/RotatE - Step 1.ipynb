{
 "cells": [
  {
   "cell_type": "code",
   "execution_count": 1,
   "id": "4244fe49",
   "metadata": {},
   "outputs": [],
   "source": [
    "from neo4j import GraphDatabase\n",
    "import pandas as pd\n",
    "\n",
    "# Connect to Neo4j\n",
    "driver = GraphDatabase.driver('neo4j://212.235.239.171:22333', auth=('neo4j', 'ngslbd2020'))\n",
    "\n",
    "def read_query(query, params={}):\n",
    "    with driver.session(database=\"semmed43cord19\") as session:\n",
    "        result = session.run(query, params)\n",
    "        return pd.DataFrame([r.values() for r in result], columns=result.keys())"
   ]
  },
  {
   "cell_type": "code",
   "execution_count": 2,
   "id": "927cadb0",
   "metadata": {},
   "outputs": [],
   "source": [
    "data = read_query(\"\"\"\n",
    "MATCH (a:gngm)-[r:CAUSES|PREDISPOSES|ASSOCIATED_WITH]-(b:dsyn)\n",
    "RETURN a.name as source, b.name as target, type(r) as type\n",
    "\"\"\")"
   ]
  },
  {
   "cell_type": "code",
   "execution_count": 3,
   "id": "371e670d",
   "metadata": {},
   "outputs": [],
   "source": [
    "from pykeen.triples import TriplesFactory\n",
    "\n",
    "tf = TriplesFactory.from_labeled_triples(\n",
    "  data[[\"source\", \"type\", \"target\"]].values\n",
    ")"
   ]
  },
  {
   "cell_type": "code",
   "execution_count": 4,
   "id": "16e1a4b7",
   "metadata": {},
   "outputs": [
    {
     "name": "stderr",
     "output_type": "stream",
     "text": [
      "using automatically assigned random_state=2987639870\n"
     ]
    }
   ],
   "source": [
    "training, testing, validation = tf.split([.8, .1, .1])\n"
   ]
  },
  {
   "cell_type": "code",
   "execution_count": 5,
   "id": "cb7f82d9",
   "metadata": {},
   "outputs": [
    {
     "data": {
      "application/vnd.jupyter.widget-view+json": {
       "model_id": "0e445217fcdd4db69b7b1ec2aea991e7",
       "version_major": 2,
       "version_minor": 0
      },
      "text/plain": [
       "Training epochs on cuda:   0%|          | 0/500 [00:00<?, ?epoch/s]"
      ]
     },
     "metadata": {},
     "output_type": "display_data"
    },
    {
     "data": {
      "application/vnd.jupyter.widget-view+json": {
       "model_id": "",
       "version_major": 2,
       "version_minor": 0
      },
      "text/plain": [
       "Training batches on cuda:   0%|          | 0/994 [00:00<?, ?batch/s]"
      ]
     },
     "metadata": {},
     "output_type": "display_data"
    },
    {
     "data": {
      "application/vnd.jupyter.widget-view+json": {
       "model_id": "",
       "version_major": 2,
       "version_minor": 0
      },
      "text/plain": [
       "Training batches on cuda:   0%|          | 0/994 [00:00<?, ?batch/s]"
      ]
     },
     "metadata": {},
     "output_type": "display_data"
    },
    {
     "data": {
      "application/vnd.jupyter.widget-view+json": {
       "model_id": "",
       "version_major": 2,
       "version_minor": 0
      },
      "text/plain": [
       "Training batches on cuda:   0%|          | 0/994 [00:00<?, ?batch/s]"
      ]
     },
     "metadata": {},
     "output_type": "display_data"
    },
    {
     "data": {
      "application/vnd.jupyter.widget-view+json": {
       "model_id": "",
       "version_major": 2,
       "version_minor": 0
      },
      "text/plain": [
       "Training batches on cuda:   0%|          | 0/994 [00:00<?, ?batch/s]"
      ]
     },
     "metadata": {},
     "output_type": "display_data"
    },
    {
     "data": {
      "application/vnd.jupyter.widget-view+json": {
       "model_id": "",
       "version_major": 2,
       "version_minor": 0
      },
      "text/plain": [
       "Training batches on cuda:   0%|          | 0/994 [00:00<?, ?batch/s]"
      ]
     },
     "metadata": {},
     "output_type": "display_data"
    },
    {
     "data": {
      "application/vnd.jupyter.widget-view+json": {
       "model_id": "",
       "version_major": 2,
       "version_minor": 0
      },
      "text/plain": [
       "Training batches on cuda:   0%|          | 0/994 [00:00<?, ?batch/s]"
      ]
     },
     "metadata": {},
     "output_type": "display_data"
    },
    {
     "data": {
      "application/vnd.jupyter.widget-view+json": {
       "model_id": "",
       "version_major": 2,
       "version_minor": 0
      },
      "text/plain": [
       "Training batches on cuda:   0%|          | 0/994 [00:00<?, ?batch/s]"
      ]
     },
     "metadata": {},
     "output_type": "display_data"
    },
    {
     "data": {
      "application/vnd.jupyter.widget-view+json": {
       "model_id": "",
       "version_major": 2,
       "version_minor": 0
      },
      "text/plain": [
       "Training batches on cuda:   0%|          | 0/994 [00:00<?, ?batch/s]"
      ]
     },
     "metadata": {},
     "output_type": "display_data"
    },
    {
     "data": {
      "application/vnd.jupyter.widget-view+json": {
       "model_id": "",
       "version_major": 2,
       "version_minor": 0
      },
      "text/plain": [
       "Training batches on cuda:   0%|          | 0/994 [00:00<?, ?batch/s]"
      ]
     },
     "metadata": {},
     "output_type": "display_data"
    },
    {
     "data": {
      "application/vnd.jupyter.widget-view+json": {
       "model_id": "",
       "version_major": 2,
       "version_minor": 0
      },
      "text/plain": [
       "Training batches on cuda:   0%|          | 0/994 [00:00<?, ?batch/s]"
      ]
     },
     "metadata": {},
     "output_type": "display_data"
    },
    {
     "name": "stderr",
     "output_type": "stream",
     "text": [
      "INFO:pykeen.evaluation.evaluator:Starting batch_size search for evaluation now...\n",
      "INFO:pykeen.evaluation.evaluator:Concluded batch_size search with batch_size=32.\n",
      "INFO:pykeen.evaluation.evaluator:Evaluation took 31.61s seconds\n",
      "INFO:pykeen.training.training_loop:=> Saved checkpoint after having finished epoch 10.\n"
     ]
    },
    {
     "data": {
      "application/vnd.jupyter.widget-view+json": {
       "model_id": "",
       "version_major": 2,
       "version_minor": 0
      },
      "text/plain": [
       "Training batches on cuda:   0%|          | 0/994 [00:00<?, ?batch/s]"
      ]
     },
     "metadata": {},
     "output_type": "display_data"
    },
    {
     "data": {
      "application/vnd.jupyter.widget-view+json": {
       "model_id": "",
       "version_major": 2,
       "version_minor": 0
      },
      "text/plain": [
       "Training batches on cuda:   0%|          | 0/994 [00:00<?, ?batch/s]"
      ]
     },
     "metadata": {},
     "output_type": "display_data"
    },
    {
     "data": {
      "application/vnd.jupyter.widget-view+json": {
       "model_id": "",
       "version_major": 2,
       "version_minor": 0
      },
      "text/plain": [
       "Training batches on cuda:   0%|          | 0/994 [00:00<?, ?batch/s]"
      ]
     },
     "metadata": {},
     "output_type": "display_data"
    },
    {
     "data": {
      "application/vnd.jupyter.widget-view+json": {
       "model_id": "",
       "version_major": 2,
       "version_minor": 0
      },
      "text/plain": [
       "Training batches on cuda:   0%|          | 0/994 [00:00<?, ?batch/s]"
      ]
     },
     "metadata": {},
     "output_type": "display_data"
    },
    {
     "data": {
      "application/vnd.jupyter.widget-view+json": {
       "model_id": "",
       "version_major": 2,
       "version_minor": 0
      },
      "text/plain": [
       "Training batches on cuda:   0%|          | 0/994 [00:00<?, ?batch/s]"
      ]
     },
     "metadata": {},
     "output_type": "display_data"
    },
    {
     "data": {
      "application/vnd.jupyter.widget-view+json": {
       "model_id": "",
       "version_major": 2,
       "version_minor": 0
      },
      "text/plain": [
       "Training batches on cuda:   0%|          | 0/994 [00:00<?, ?batch/s]"
      ]
     },
     "metadata": {},
     "output_type": "display_data"
    },
    {
     "data": {
      "application/vnd.jupyter.widget-view+json": {
       "model_id": "",
       "version_major": 2,
       "version_minor": 0
      },
      "text/plain": [
       "Training batches on cuda:   0%|          | 0/994 [00:00<?, ?batch/s]"
      ]
     },
     "metadata": {},
     "output_type": "display_data"
    },
    {
     "data": {
      "application/vnd.jupyter.widget-view+json": {
       "model_id": "",
       "version_major": 2,
       "version_minor": 0
      },
      "text/plain": [
       "Training batches on cuda:   0%|          | 0/994 [00:00<?, ?batch/s]"
      ]
     },
     "metadata": {},
     "output_type": "display_data"
    },
    {
     "data": {
      "application/vnd.jupyter.widget-view+json": {
       "model_id": "",
       "version_major": 2,
       "version_minor": 0
      },
      "text/plain": [
       "Training batches on cuda:   0%|          | 0/994 [00:00<?, ?batch/s]"
      ]
     },
     "metadata": {},
     "output_type": "display_data"
    },
    {
     "data": {
      "application/vnd.jupyter.widget-view+json": {
       "model_id": "",
       "version_major": 2,
       "version_minor": 0
      },
      "text/plain": [
       "Training batches on cuda:   0%|          | 0/994 [00:00<?, ?batch/s]"
      ]
     },
     "metadata": {},
     "output_type": "display_data"
    },
    {
     "name": "stderr",
     "output_type": "stream",
     "text": [
      "INFO:pykeen.evaluation.evaluator:Evaluation took 31.64s seconds\n",
      "INFO:pykeen.training.training_loop:=> Saved checkpoint after having finished epoch 20.\n"
     ]
    },
    {
     "data": {
      "application/vnd.jupyter.widget-view+json": {
       "model_id": "",
       "version_major": 2,
       "version_minor": 0
      },
      "text/plain": [
       "Training batches on cuda:   0%|          | 0/994 [00:00<?, ?batch/s]"
      ]
     },
     "metadata": {},
     "output_type": "display_data"
    },
    {
     "data": {
      "application/vnd.jupyter.widget-view+json": {
       "model_id": "",
       "version_major": 2,
       "version_minor": 0
      },
      "text/plain": [
       "Training batches on cuda:   0%|          | 0/994 [00:00<?, ?batch/s]"
      ]
     },
     "metadata": {},
     "output_type": "display_data"
    },
    {
     "data": {
      "application/vnd.jupyter.widget-view+json": {
       "model_id": "",
       "version_major": 2,
       "version_minor": 0
      },
      "text/plain": [
       "Training batches on cuda:   0%|          | 0/994 [00:00<?, ?batch/s]"
      ]
     },
     "metadata": {},
     "output_type": "display_data"
    },
    {
     "data": {
      "application/vnd.jupyter.widget-view+json": {
       "model_id": "",
       "version_major": 2,
       "version_minor": 0
      },
      "text/plain": [
       "Training batches on cuda:   0%|          | 0/994 [00:00<?, ?batch/s]"
      ]
     },
     "metadata": {},
     "output_type": "display_data"
    },
    {
     "data": {
      "application/vnd.jupyter.widget-view+json": {
       "model_id": "",
       "version_major": 2,
       "version_minor": 0
      },
      "text/plain": [
       "Training batches on cuda:   0%|          | 0/994 [00:00<?, ?batch/s]"
      ]
     },
     "metadata": {},
     "output_type": "display_data"
    },
    {
     "data": {
      "application/vnd.jupyter.widget-view+json": {
       "model_id": "",
       "version_major": 2,
       "version_minor": 0
      },
      "text/plain": [
       "Training batches on cuda:   0%|          | 0/994 [00:00<?, ?batch/s]"
      ]
     },
     "metadata": {},
     "output_type": "display_data"
    },
    {
     "data": {
      "application/vnd.jupyter.widget-view+json": {
       "model_id": "",
       "version_major": 2,
       "version_minor": 0
      },
      "text/plain": [
       "Training batches on cuda:   0%|          | 0/994 [00:00<?, ?batch/s]"
      ]
     },
     "metadata": {},
     "output_type": "display_data"
    },
    {
     "data": {
      "application/vnd.jupyter.widget-view+json": {
       "model_id": "",
       "version_major": 2,
       "version_minor": 0
      },
      "text/plain": [
       "Training batches on cuda:   0%|          | 0/994 [00:00<?, ?batch/s]"
      ]
     },
     "metadata": {},
     "output_type": "display_data"
    },
    {
     "data": {
      "application/vnd.jupyter.widget-view+json": {
       "model_id": "",
       "version_major": 2,
       "version_minor": 0
      },
      "text/plain": [
       "Training batches on cuda:   0%|          | 0/994 [00:00<?, ?batch/s]"
      ]
     },
     "metadata": {},
     "output_type": "display_data"
    },
    {
     "data": {
      "application/vnd.jupyter.widget-view+json": {
       "model_id": "",
       "version_major": 2,
       "version_minor": 0
      },
      "text/plain": [
       "Training batches on cuda:   0%|          | 0/994 [00:00<?, ?batch/s]"
      ]
     },
     "metadata": {},
     "output_type": "display_data"
    },
    {
     "name": "stderr",
     "output_type": "stream",
     "text": [
      "INFO:pykeen.evaluation.evaluator:Evaluation took 31.65s seconds\n",
      "INFO:pykeen.training.training_loop:=> Saved checkpoint after having finished epoch 30.\n"
     ]
    },
    {
     "data": {
      "application/vnd.jupyter.widget-view+json": {
       "model_id": "",
       "version_major": 2,
       "version_minor": 0
      },
      "text/plain": [
       "Training batches on cuda:   0%|          | 0/994 [00:00<?, ?batch/s]"
      ]
     },
     "metadata": {},
     "output_type": "display_data"
    },
    {
     "data": {
      "application/vnd.jupyter.widget-view+json": {
       "model_id": "",
       "version_major": 2,
       "version_minor": 0
      },
      "text/plain": [
       "Training batches on cuda:   0%|          | 0/994 [00:00<?, ?batch/s]"
      ]
     },
     "metadata": {},
     "output_type": "display_data"
    },
    {
     "data": {
      "application/vnd.jupyter.widget-view+json": {
       "model_id": "",
       "version_major": 2,
       "version_minor": 0
      },
      "text/plain": [
       "Training batches on cuda:   0%|          | 0/994 [00:00<?, ?batch/s]"
      ]
     },
     "metadata": {},
     "output_type": "display_data"
    },
    {
     "data": {
      "application/vnd.jupyter.widget-view+json": {
       "model_id": "",
       "version_major": 2,
       "version_minor": 0
      },
      "text/plain": [
       "Training batches on cuda:   0%|          | 0/994 [00:00<?, ?batch/s]"
      ]
     },
     "metadata": {},
     "output_type": "display_data"
    },
    {
     "data": {
      "application/vnd.jupyter.widget-view+json": {
       "model_id": "",
       "version_major": 2,
       "version_minor": 0
      },
      "text/plain": [
       "Training batches on cuda:   0%|          | 0/994 [00:00<?, ?batch/s]"
      ]
     },
     "metadata": {},
     "output_type": "display_data"
    },
    {
     "data": {
      "application/vnd.jupyter.widget-view+json": {
       "model_id": "",
       "version_major": 2,
       "version_minor": 0
      },
      "text/plain": [
       "Training batches on cuda:   0%|          | 0/994 [00:00<?, ?batch/s]"
      ]
     },
     "metadata": {},
     "output_type": "display_data"
    },
    {
     "data": {
      "application/vnd.jupyter.widget-view+json": {
       "model_id": "",
       "version_major": 2,
       "version_minor": 0
      },
      "text/plain": [
       "Training batches on cuda:   0%|          | 0/994 [00:00<?, ?batch/s]"
      ]
     },
     "metadata": {},
     "output_type": "display_data"
    },
    {
     "data": {
      "application/vnd.jupyter.widget-view+json": {
       "model_id": "",
       "version_major": 2,
       "version_minor": 0
      },
      "text/plain": [
       "Training batches on cuda:   0%|          | 0/994 [00:00<?, ?batch/s]"
      ]
     },
     "metadata": {},
     "output_type": "display_data"
    },
    {
     "data": {
      "application/vnd.jupyter.widget-view+json": {
       "model_id": "",
       "version_major": 2,
       "version_minor": 0
      },
      "text/plain": [
       "Training batches on cuda:   0%|          | 0/994 [00:00<?, ?batch/s]"
      ]
     },
     "metadata": {},
     "output_type": "display_data"
    },
    {
     "data": {
      "application/vnd.jupyter.widget-view+json": {
       "model_id": "",
       "version_major": 2,
       "version_minor": 0
      },
      "text/plain": [
       "Training batches on cuda:   0%|          | 0/994 [00:00<?, ?batch/s]"
      ]
     },
     "metadata": {},
     "output_type": "display_data"
    },
    {
     "name": "stderr",
     "output_type": "stream",
     "text": [
      "INFO:pykeen.evaluation.evaluator:Evaluation took 31.66s seconds\n",
      "INFO:pykeen.training.training_loop:=> Saved checkpoint after having finished epoch 40.\n"
     ]
    },
    {
     "data": {
      "application/vnd.jupyter.widget-view+json": {
       "model_id": "",
       "version_major": 2,
       "version_minor": 0
      },
      "text/plain": [
       "Training batches on cuda:   0%|          | 0/994 [00:00<?, ?batch/s]"
      ]
     },
     "metadata": {},
     "output_type": "display_data"
    },
    {
     "data": {
      "application/vnd.jupyter.widget-view+json": {
       "model_id": "",
       "version_major": 2,
       "version_minor": 0
      },
      "text/plain": [
       "Training batches on cuda:   0%|          | 0/994 [00:00<?, ?batch/s]"
      ]
     },
     "metadata": {},
     "output_type": "display_data"
    },
    {
     "data": {
      "application/vnd.jupyter.widget-view+json": {
       "model_id": "",
       "version_major": 2,
       "version_minor": 0
      },
      "text/plain": [
       "Training batches on cuda:   0%|          | 0/994 [00:00<?, ?batch/s]"
      ]
     },
     "metadata": {},
     "output_type": "display_data"
    },
    {
     "data": {
      "application/vnd.jupyter.widget-view+json": {
       "model_id": "",
       "version_major": 2,
       "version_minor": 0
      },
      "text/plain": [
       "Training batches on cuda:   0%|          | 0/994 [00:00<?, ?batch/s]"
      ]
     },
     "metadata": {},
     "output_type": "display_data"
    },
    {
     "data": {
      "application/vnd.jupyter.widget-view+json": {
       "model_id": "",
       "version_major": 2,
       "version_minor": 0
      },
      "text/plain": [
       "Training batches on cuda:   0%|          | 0/994 [00:00<?, ?batch/s]"
      ]
     },
     "metadata": {},
     "output_type": "display_data"
    },
    {
     "data": {
      "application/vnd.jupyter.widget-view+json": {
       "model_id": "",
       "version_major": 2,
       "version_minor": 0
      },
      "text/plain": [
       "Training batches on cuda:   0%|          | 0/994 [00:00<?, ?batch/s]"
      ]
     },
     "metadata": {},
     "output_type": "display_data"
    },
    {
     "data": {
      "application/vnd.jupyter.widget-view+json": {
       "model_id": "",
       "version_major": 2,
       "version_minor": 0
      },
      "text/plain": [
       "Training batches on cuda:   0%|          | 0/994 [00:00<?, ?batch/s]"
      ]
     },
     "metadata": {},
     "output_type": "display_data"
    },
    {
     "data": {
      "application/vnd.jupyter.widget-view+json": {
       "model_id": "",
       "version_major": 2,
       "version_minor": 0
      },
      "text/plain": [
       "Training batches on cuda:   0%|          | 0/994 [00:00<?, ?batch/s]"
      ]
     },
     "metadata": {},
     "output_type": "display_data"
    },
    {
     "data": {
      "application/vnd.jupyter.widget-view+json": {
       "model_id": "",
       "version_major": 2,
       "version_minor": 0
      },
      "text/plain": [
       "Training batches on cuda:   0%|          | 0/994 [00:00<?, ?batch/s]"
      ]
     },
     "metadata": {},
     "output_type": "display_data"
    },
    {
     "data": {
      "application/vnd.jupyter.widget-view+json": {
       "model_id": "",
       "version_major": 2,
       "version_minor": 0
      },
      "text/plain": [
       "Training batches on cuda:   0%|          | 0/994 [00:00<?, ?batch/s]"
      ]
     },
     "metadata": {},
     "output_type": "display_data"
    },
    {
     "name": "stderr",
     "output_type": "stream",
     "text": [
      "INFO:pykeen.evaluation.evaluator:Evaluation took 31.70s seconds\n",
      "INFO:pykeen.training.training_loop:=> Saved checkpoint after having finished epoch 50.\n"
     ]
    },
    {
     "data": {
      "application/vnd.jupyter.widget-view+json": {
       "model_id": "",
       "version_major": 2,
       "version_minor": 0
      },
      "text/plain": [
       "Training batches on cuda:   0%|          | 0/994 [00:00<?, ?batch/s]"
      ]
     },
     "metadata": {},
     "output_type": "display_data"
    },
    {
     "data": {
      "application/vnd.jupyter.widget-view+json": {
       "model_id": "",
       "version_major": 2,
       "version_minor": 0
      },
      "text/plain": [
       "Training batches on cuda:   0%|          | 0/994 [00:00<?, ?batch/s]"
      ]
     },
     "metadata": {},
     "output_type": "display_data"
    },
    {
     "data": {
      "application/vnd.jupyter.widget-view+json": {
       "model_id": "",
       "version_major": 2,
       "version_minor": 0
      },
      "text/plain": [
       "Training batches on cuda:   0%|          | 0/994 [00:00<?, ?batch/s]"
      ]
     },
     "metadata": {},
     "output_type": "display_data"
    },
    {
     "data": {
      "application/vnd.jupyter.widget-view+json": {
       "model_id": "",
       "version_major": 2,
       "version_minor": 0
      },
      "text/plain": [
       "Training batches on cuda:   0%|          | 0/994 [00:00<?, ?batch/s]"
      ]
     },
     "metadata": {},
     "output_type": "display_data"
    },
    {
     "data": {
      "application/vnd.jupyter.widget-view+json": {
       "model_id": "",
       "version_major": 2,
       "version_minor": 0
      },
      "text/plain": [
       "Training batches on cuda:   0%|          | 0/994 [00:00<?, ?batch/s]"
      ]
     },
     "metadata": {},
     "output_type": "display_data"
    },
    {
     "data": {
      "application/vnd.jupyter.widget-view+json": {
       "model_id": "",
       "version_major": 2,
       "version_minor": 0
      },
      "text/plain": [
       "Training batches on cuda:   0%|          | 0/994 [00:00<?, ?batch/s]"
      ]
     },
     "metadata": {},
     "output_type": "display_data"
    },
    {
     "data": {
      "application/vnd.jupyter.widget-view+json": {
       "model_id": "",
       "version_major": 2,
       "version_minor": 0
      },
      "text/plain": [
       "Training batches on cuda:   0%|          | 0/994 [00:00<?, ?batch/s]"
      ]
     },
     "metadata": {},
     "output_type": "display_data"
    },
    {
     "data": {
      "application/vnd.jupyter.widget-view+json": {
       "model_id": "",
       "version_major": 2,
       "version_minor": 0
      },
      "text/plain": [
       "Training batches on cuda:   0%|          | 0/994 [00:00<?, ?batch/s]"
      ]
     },
     "metadata": {},
     "output_type": "display_data"
    },
    {
     "data": {
      "application/vnd.jupyter.widget-view+json": {
       "model_id": "",
       "version_major": 2,
       "version_minor": 0
      },
      "text/plain": [
       "Training batches on cuda:   0%|          | 0/994 [00:00<?, ?batch/s]"
      ]
     },
     "metadata": {},
     "output_type": "display_data"
    },
    {
     "data": {
      "application/vnd.jupyter.widget-view+json": {
       "model_id": "",
       "version_major": 2,
       "version_minor": 0
      },
      "text/plain": [
       "Training batches on cuda:   0%|          | 0/994 [00:00<?, ?batch/s]"
      ]
     },
     "metadata": {},
     "output_type": "display_data"
    },
    {
     "name": "stderr",
     "output_type": "stream",
     "text": [
      "INFO:pykeen.evaluation.evaluator:Evaluation took 31.63s seconds\n",
      "INFO:pykeen.training.training_loop:=> Saved checkpoint after having finished epoch 60.\n"
     ]
    },
    {
     "data": {
      "application/vnd.jupyter.widget-view+json": {
       "model_id": "",
       "version_major": 2,
       "version_minor": 0
      },
      "text/plain": [
       "Training batches on cuda:   0%|          | 0/994 [00:00<?, ?batch/s]"
      ]
     },
     "metadata": {},
     "output_type": "display_data"
    },
    {
     "data": {
      "application/vnd.jupyter.widget-view+json": {
       "model_id": "",
       "version_major": 2,
       "version_minor": 0
      },
      "text/plain": [
       "Training batches on cuda:   0%|          | 0/994 [00:00<?, ?batch/s]"
      ]
     },
     "metadata": {},
     "output_type": "display_data"
    },
    {
     "data": {
      "application/vnd.jupyter.widget-view+json": {
       "model_id": "",
       "version_major": 2,
       "version_minor": 0
      },
      "text/plain": [
       "Training batches on cuda:   0%|          | 0/994 [00:00<?, ?batch/s]"
      ]
     },
     "metadata": {},
     "output_type": "display_data"
    },
    {
     "data": {
      "application/vnd.jupyter.widget-view+json": {
       "model_id": "",
       "version_major": 2,
       "version_minor": 0
      },
      "text/plain": [
       "Training batches on cuda:   0%|          | 0/994 [00:00<?, ?batch/s]"
      ]
     },
     "metadata": {},
     "output_type": "display_data"
    },
    {
     "data": {
      "application/vnd.jupyter.widget-view+json": {
       "model_id": "",
       "version_major": 2,
       "version_minor": 0
      },
      "text/plain": [
       "Training batches on cuda:   0%|          | 0/994 [00:00<?, ?batch/s]"
      ]
     },
     "metadata": {},
     "output_type": "display_data"
    },
    {
     "data": {
      "application/vnd.jupyter.widget-view+json": {
       "model_id": "",
       "version_major": 2,
       "version_minor": 0
      },
      "text/plain": [
       "Training batches on cuda:   0%|          | 0/994 [00:00<?, ?batch/s]"
      ]
     },
     "metadata": {},
     "output_type": "display_data"
    },
    {
     "data": {
      "application/vnd.jupyter.widget-view+json": {
       "model_id": "",
       "version_major": 2,
       "version_minor": 0
      },
      "text/plain": [
       "Training batches on cuda:   0%|          | 0/994 [00:00<?, ?batch/s]"
      ]
     },
     "metadata": {},
     "output_type": "display_data"
    },
    {
     "data": {
      "application/vnd.jupyter.widget-view+json": {
       "model_id": "",
       "version_major": 2,
       "version_minor": 0
      },
      "text/plain": [
       "Training batches on cuda:   0%|          | 0/994 [00:00<?, ?batch/s]"
      ]
     },
     "metadata": {},
     "output_type": "display_data"
    },
    {
     "data": {
      "application/vnd.jupyter.widget-view+json": {
       "model_id": "",
       "version_major": 2,
       "version_minor": 0
      },
      "text/plain": [
       "Training batches on cuda:   0%|          | 0/994 [00:00<?, ?batch/s]"
      ]
     },
     "metadata": {},
     "output_type": "display_data"
    },
    {
     "data": {
      "application/vnd.jupyter.widget-view+json": {
       "model_id": "",
       "version_major": 2,
       "version_minor": 0
      },
      "text/plain": [
       "Training batches on cuda:   0%|          | 0/994 [00:00<?, ?batch/s]"
      ]
     },
     "metadata": {},
     "output_type": "display_data"
    },
    {
     "name": "stderr",
     "output_type": "stream",
     "text": [
      "INFO:pykeen.evaluation.evaluator:Evaluation took 31.63s seconds\n"
     ]
    },
    {
     "data": {
      "application/vnd.jupyter.widget-view+json": {
       "model_id": "",
       "version_major": 2,
       "version_minor": 0
      },
      "text/plain": [
       "Training batches on cuda:   0%|          | 0/994 [00:00<?, ?batch/s]"
      ]
     },
     "metadata": {},
     "output_type": "display_data"
    },
    {
     "data": {
      "application/vnd.jupyter.widget-view+json": {
       "model_id": "",
       "version_major": 2,
       "version_minor": 0
      },
      "text/plain": [
       "Training batches on cuda:   0%|          | 0/994 [00:00<?, ?batch/s]"
      ]
     },
     "metadata": {},
     "output_type": "display_data"
    },
    {
     "data": {
      "application/vnd.jupyter.widget-view+json": {
       "model_id": "",
       "version_major": 2,
       "version_minor": 0
      },
      "text/plain": [
       "Training batches on cuda:   0%|          | 0/994 [00:00<?, ?batch/s]"
      ]
     },
     "metadata": {},
     "output_type": "display_data"
    },
    {
     "data": {
      "application/vnd.jupyter.widget-view+json": {
       "model_id": "",
       "version_major": 2,
       "version_minor": 0
      },
      "text/plain": [
       "Training batches on cuda:   0%|          | 0/994 [00:00<?, ?batch/s]"
      ]
     },
     "metadata": {},
     "output_type": "display_data"
    },
    {
     "data": {
      "application/vnd.jupyter.widget-view+json": {
       "model_id": "",
       "version_major": 2,
       "version_minor": 0
      },
      "text/plain": [
       "Training batches on cuda:   0%|          | 0/994 [00:00<?, ?batch/s]"
      ]
     },
     "metadata": {},
     "output_type": "display_data"
    },
    {
     "data": {
      "application/vnd.jupyter.widget-view+json": {
       "model_id": "",
       "version_major": 2,
       "version_minor": 0
      },
      "text/plain": [
       "Training batches on cuda:   0%|          | 0/994 [00:00<?, ?batch/s]"
      ]
     },
     "metadata": {},
     "output_type": "display_data"
    },
    {
     "data": {
      "application/vnd.jupyter.widget-view+json": {
       "model_id": "",
       "version_major": 2,
       "version_minor": 0
      },
      "text/plain": [
       "Training batches on cuda:   0%|          | 0/994 [00:00<?, ?batch/s]"
      ]
     },
     "metadata": {},
     "output_type": "display_data"
    },
    {
     "data": {
      "application/vnd.jupyter.widget-view+json": {
       "model_id": "",
       "version_major": 2,
       "version_minor": 0
      },
      "text/plain": [
       "Training batches on cuda:   0%|          | 0/994 [00:00<?, ?batch/s]"
      ]
     },
     "metadata": {},
     "output_type": "display_data"
    },
    {
     "data": {
      "application/vnd.jupyter.widget-view+json": {
       "model_id": "",
       "version_major": 2,
       "version_minor": 0
      },
      "text/plain": [
       "Training batches on cuda:   0%|          | 0/994 [00:00<?, ?batch/s]"
      ]
     },
     "metadata": {},
     "output_type": "display_data"
    },
    {
     "data": {
      "application/vnd.jupyter.widget-view+json": {
       "model_id": "",
       "version_major": 2,
       "version_minor": 0
      },
      "text/plain": [
       "Training batches on cuda:   0%|          | 0/994 [00:00<?, ?batch/s]"
      ]
     },
     "metadata": {},
     "output_type": "display_data"
    },
    {
     "name": "stderr",
     "output_type": "stream",
     "text": [
      "INFO:pykeen.evaluation.evaluator:Evaluation took 31.64s seconds\n",
      "INFO:pykeen.stoppers.early_stopping:Stopping early after 8 evaluations at epoch 80. The best result hits_at_k=0.13033428724173715 occurred at epoch 60.\n",
      "INFO:pykeen.training.training_loop:=> loading checkpoint 'C:\\Users\\tomas\\AppData\\Local\\Temp\\tmpzxprlgdv'\n",
      "INFO:pykeen.training.training_loop:=> loaded checkpoint 'C:\\Users\\tomas\\AppData\\Local\\Temp\\tmpzxprlgdv' stopped after having finished epoch 60\n"
     ]
    },
    {
     "data": {
      "application/vnd.jupyter.widget-view+json": {
       "model_id": "aa53681b99364e2fabac96fe80b4a23e",
       "version_major": 2,
       "version_minor": 0
      },
      "text/plain": [
       "Evaluating on cuda:   0%|          | 0.00/31.8k [00:00<?, ?triple/s]"
      ]
     },
     "metadata": {},
     "output_type": "display_data"
    },
    {
     "name": "stderr",
     "output_type": "stream",
     "text": [
      "INFO:pykeen.evaluation.evaluator:Evaluation took 32.86s seconds\n"
     ]
    }
   ],
   "source": [
    "from pykeen.pipeline import pipeline\n",
    "\n",
    "result = pipeline(\n",
    "    training=training,\n",
    "    testing=testing,\n",
    "    validation=validation,\n",
    "    model='RotatE',\n",
    "    stopper='early',\n",
    "    epochs=500,\n",
    "    dimensions=512,\n",
    "    random_seed=420\n",
    ")"
   ]
  },
  {
   "cell_type": "code",
   "execution_count": 6,
   "id": "6b59d969",
   "metadata": {},
   "outputs": [
    {
     "data": {
      "text/plain": [
       "0.007216655598173767"
      ]
     },
     "execution_count": 6,
     "metadata": {},
     "output_type": "execute_result"
    }
   ],
   "source": [
    "result.get_metric('inverse_geometric_mean_rank')"
   ]
  },
  {
   "cell_type": "code",
   "execution_count": 7,
   "id": "99c0242b",
   "metadata": {},
   "outputs": [
    {
     "data": {
      "text/plain": [
       "954.6717035126891"
      ]
     },
     "execution_count": 7,
     "metadata": {},
     "output_type": "execute_result"
    }
   ],
   "source": [
    "result.get_metric('Mean Rank')"
   ]
  },
  {
   "cell_type": "code",
   "execution_count": 8,
   "id": "ca6af8e5",
   "metadata": {},
   "outputs": [
    {
     "data": {
      "text/plain": [
       "0.0740734156124668"
      ]
     },
     "execution_count": 8,
     "metadata": {},
     "output_type": "execute_result"
    }
   ],
   "source": [
    "result.get_metric('Mean Reciprocal Rank')"
   ]
  },
  {
   "cell_type": "code",
   "execution_count": 9,
   "id": "c0630d7c",
   "metadata": {},
   "outputs": [
    {
     "data": {
      "text/plain": [
       "0.055280097844495356"
      ]
     },
     "execution_count": 9,
     "metadata": {},
     "output_type": "execute_result"
    }
   ],
   "source": [
    "result.get_metric('Adjusted Mean Rank')"
   ]
  },
  {
   "cell_type": "code",
   "execution_count": 10,
   "id": "ecbce739",
   "metadata": {},
   "outputs": [
    {
     "data": {
      "text/plain": [
       "0.9447746091638337"
      ]
     },
     "execution_count": 10,
     "metadata": {},
     "output_type": "execute_result"
    }
   ],
   "source": [
    "result.get_metric('adjusted_mean_rank_index')"
   ]
  },
  {
   "cell_type": "code",
   "execution_count": 11,
   "id": "5ebcc5b3",
   "metadata": {},
   "outputs": [
    {
     "name": "stderr",
     "output_type": "stream",
     "text": [
      "WARNING:pykeen.models.predict:_predict is an expensive operation, involving 3626232867 score evaluations.\n"
     ]
    }
   ],
   "source": [
    "from pykeen.models.predict import get_all_prediction_df\n",
    "\n",
    "top_df = get_all_prediction_df(result.model,k=500000, triples_factory=result.training)"
   ]
  },
  {
   "cell_type": "code",
   "execution_count": 13,
   "id": "3f4e4213",
   "metadata": {},
   "outputs": [
    {
     "data": {
      "text/html": [
       "<div>\n",
       "<style scoped>\n",
       "    .dataframe tbody tr th:only-of-type {\n",
       "        vertical-align: middle;\n",
       "    }\n",
       "\n",
       "    .dataframe tbody tr th {\n",
       "        vertical-align: top;\n",
       "    }\n",
       "\n",
       "    .dataframe thead th {\n",
       "        text-align: right;\n",
       "    }\n",
       "</style>\n",
       "<table border=\"1\" class=\"dataframe\">\n",
       "  <thead>\n",
       "    <tr style=\"text-align: right;\">\n",
       "      <th></th>\n",
       "      <th>head_id</th>\n",
       "      <th>head_label</th>\n",
       "      <th>relation_id</th>\n",
       "      <th>relation_label</th>\n",
       "      <th>tail_id</th>\n",
       "      <th>tail_label</th>\n",
       "      <th>score</th>\n",
       "      <th>in_training</th>\n",
       "    </tr>\n",
       "  </thead>\n",
       "  <tbody>\n",
       "    <tr>\n",
       "      <th>2551</th>\n",
       "      <td>5076</td>\n",
       "      <td>COL7A1 gene|COL7A1</td>\n",
       "      <td>0</td>\n",
       "      <td>ASSOCIATED_WITH</td>\n",
       "      <td>9225</td>\n",
       "      <td>Epidermolysis bullosa pruriginosa</td>\n",
       "      <td>-3.399443</td>\n",
       "      <td>False</td>\n",
       "    </tr>\n",
       "    <tr>\n",
       "      <th>4633</th>\n",
       "      <td>17402</td>\n",
       "      <td>MPZ</td>\n",
       "      <td>0</td>\n",
       "      <td>ASSOCIATED_WITH</td>\n",
       "      <td>7911</td>\n",
       "      <td>Dejerine-Sottas Disease (disorder)</td>\n",
       "      <td>-3.523076</td>\n",
       "      <td>False</td>\n",
       "    </tr>\n",
       "    <tr>\n",
       "      <th>4845</th>\n",
       "      <td>32302</td>\n",
       "      <td>hemoglobin A2'|HBA2</td>\n",
       "      <td>0</td>\n",
       "      <td>ASSOCIATED_WITH</td>\n",
       "      <td>31614</td>\n",
       "      <td>delta Thalassemia</td>\n",
       "      <td>-3.534009</td>\n",
       "      <td>False</td>\n",
       "    </tr>\n",
       "    <tr>\n",
       "      <th>7550</th>\n",
       "      <td>22094</td>\n",
       "      <td>Peroxisomal thiolase</td>\n",
       "      <td>0</td>\n",
       "      <td>ASSOCIATED_WITH</td>\n",
       "      <td>24282</td>\n",
       "      <td>Refsum Disease, Infantile</td>\n",
       "      <td>-3.655327</td>\n",
       "      <td>False</td>\n",
       "    </tr>\n",
       "    <tr>\n",
       "      <th>8431</th>\n",
       "      <td>15297</td>\n",
       "      <td>KISS1R</td>\n",
       "      <td>1</td>\n",
       "      <td>CAUSES</td>\n",
       "      <td>5948</td>\n",
       "      <td>Central precocious puberty</td>\n",
       "      <td>-3.690685</td>\n",
       "      <td>False</td>\n",
       "    </tr>\n",
       "    <tr>\n",
       "      <th>10753</th>\n",
       "      <td>21467</td>\n",
       "      <td>PRSS1</td>\n",
       "      <td>0</td>\n",
       "      <td>ASSOCIATED_WITH</td>\n",
       "      <td>10186</td>\n",
       "      <td>Familial chronic pancreatitis</td>\n",
       "      <td>-3.787548</td>\n",
       "      <td>False</td>\n",
       "    </tr>\n",
       "    <tr>\n",
       "      <th>11103</th>\n",
       "      <td>29184</td>\n",
       "      <td>UDP-Glucuronosyltransferase 1A1|SLC35A2|UGT1A</td>\n",
       "      <td>0</td>\n",
       "      <td>ASSOCIATED_WITH</td>\n",
       "      <td>29375</td>\n",
       "      <td>Unconjugated hyperbilirubinemia</td>\n",
       "      <td>-3.803428</td>\n",
       "      <td>False</td>\n",
       "    </tr>\n",
       "    <tr>\n",
       "      <th>11379</th>\n",
       "      <td>24768</td>\n",
       "      <td>SCN5A gene|SCN5A</td>\n",
       "      <td>0</td>\n",
       "      <td>ASSOCIATED_WITH</td>\n",
       "      <td>29750</td>\n",
       "      <td>Ventricular arrhythmia</td>\n",
       "      <td>-3.816069</td>\n",
       "      <td>False</td>\n",
       "    </tr>\n",
       "    <tr>\n",
       "      <th>11806</th>\n",
       "      <td>21038</td>\n",
       "      <td>PMP22 gene|PMP22</td>\n",
       "      <td>1</td>\n",
       "      <td>CAUSES</td>\n",
       "      <td>7911</td>\n",
       "      <td>Dejerine-Sottas Disease (disorder)</td>\n",
       "      <td>-3.834486</td>\n",
       "      <td>False</td>\n",
       "    </tr>\n",
       "    <tr>\n",
       "      <th>12071</th>\n",
       "      <td>30654</td>\n",
       "      <td>alpha-Globins</td>\n",
       "      <td>0</td>\n",
       "      <td>ASSOCIATED_WITH</td>\n",
       "      <td>2088</td>\n",
       "      <td>Alpha trait thalassemia</td>\n",
       "      <td>-3.846810</td>\n",
       "      <td>False</td>\n",
       "    </tr>\n",
       "    <tr>\n",
       "      <th>12478</th>\n",
       "      <td>33334</td>\n",
       "      <td>nucleoside triphosphate pyrophosphatase</td>\n",
       "      <td>0</td>\n",
       "      <td>ASSOCIATED_WITH</td>\n",
       "      <td>5678</td>\n",
       "      <td>Calcium Pyrophosphate Dihydrate Deposition</td>\n",
       "      <td>-3.863968</td>\n",
       "      <td>False</td>\n",
       "    </tr>\n",
       "    <tr>\n",
       "      <th>12513</th>\n",
       "      <td>21426</td>\n",
       "      <td>PROM1 gene|PROM1</td>\n",
       "      <td>1</td>\n",
       "      <td>CAUSES</td>\n",
       "      <td>6712</td>\n",
       "      <td>Cone-Rod Dystrophies</td>\n",
       "      <td>-3.865411</td>\n",
       "      <td>False</td>\n",
       "    </tr>\n",
       "    <tr>\n",
       "      <th>12753</th>\n",
       "      <td>25071</td>\n",
       "      <td>SH3TC2</td>\n",
       "      <td>0</td>\n",
       "      <td>ASSOCIATED_WITH</td>\n",
       "      <td>7911</td>\n",
       "      <td>Dejerine-Sottas Disease (disorder)</td>\n",
       "      <td>-3.876216</td>\n",
       "      <td>False</td>\n",
       "    </tr>\n",
       "    <tr>\n",
       "      <th>12864</th>\n",
       "      <td>2098</td>\n",
       "      <td>Alpha-neuraminidase</td>\n",
       "      <td>1</td>\n",
       "      <td>CAUSES</td>\n",
       "      <td>6592</td>\n",
       "      <td>Combined deficiency of sialidase AND beta gala...</td>\n",
       "      <td>-3.881897</td>\n",
       "      <td>False</td>\n",
       "    </tr>\n",
       "    <tr>\n",
       "      <th>13066</th>\n",
       "      <td>16821</td>\n",
       "      <td>MCM3AP</td>\n",
       "      <td>1</td>\n",
       "      <td>CAUSES</td>\n",
       "      <td>7911</td>\n",
       "      <td>Dejerine-Sottas Disease (disorder)</td>\n",
       "      <td>-3.890651</td>\n",
       "      <td>False</td>\n",
       "    </tr>\n",
       "    <tr>\n",
       "      <th>13146</th>\n",
       "      <td>15156</td>\n",
       "      <td>KCNT1</td>\n",
       "      <td>1</td>\n",
       "      <td>CAUSES</td>\n",
       "      <td>8925</td>\n",
       "      <td>Early infantile epileptic encephalopathy with ...</td>\n",
       "      <td>-3.894453</td>\n",
       "      <td>False</td>\n",
       "    </tr>\n",
       "    <tr>\n",
       "      <th>13499</th>\n",
       "      <td>2488</td>\n",
       "      <td>Antiphospholipid Antibodies</td>\n",
       "      <td>0</td>\n",
       "      <td>ASSOCIATED_WITH</td>\n",
       "      <td>2490</td>\n",
       "      <td>Antiphospholipid Syndrome</td>\n",
       "      <td>-3.907983</td>\n",
       "      <td>False</td>\n",
       "    </tr>\n",
       "    <tr>\n",
       "      <th>13869</th>\n",
       "      <td>10915</td>\n",
       "      <td>GJB6 gene|GJB6</td>\n",
       "      <td>0</td>\n",
       "      <td>ASSOCIATED_WITH</td>\n",
       "      <td>9331</td>\n",
       "      <td>Erythrokeratodermia variabilis</td>\n",
       "      <td>-3.924407</td>\n",
       "      <td>False</td>\n",
       "    </tr>\n",
       "    <tr>\n",
       "      <th>13986</th>\n",
       "      <td>32043</td>\n",
       "      <td>gamma-Sarcoglycan</td>\n",
       "      <td>1</td>\n",
       "      <td>CAUSES</td>\n",
       "      <td>18378</td>\n",
       "      <td>Muscular Dystrophies, Limb-Girdle</td>\n",
       "      <td>-3.929435</td>\n",
       "      <td>False</td>\n",
       "    </tr>\n",
       "    <tr>\n",
       "      <th>14144</th>\n",
       "      <td>25096</td>\n",
       "      <td>SHOX protein|SHOX</td>\n",
       "      <td>1</td>\n",
       "      <td>CAUSES</td>\n",
       "      <td>18003</td>\n",
       "      <td>Mesomelic dysplasia</td>\n",
       "      <td>-3.936560</td>\n",
       "      <td>False</td>\n",
       "    </tr>\n",
       "    <tr>\n",
       "      <th>14387</th>\n",
       "      <td>29690</td>\n",
       "      <td>Vascular Endothelial Growth Factor Receptor-3|...</td>\n",
       "      <td>1</td>\n",
       "      <td>CAUSES</td>\n",
       "      <td>13019</td>\n",
       "      <td>Hereditary lymphedema</td>\n",
       "      <td>-3.947434</td>\n",
       "      <td>False</td>\n",
       "    </tr>\n",
       "    <tr>\n",
       "      <th>14494</th>\n",
       "      <td>25853</td>\n",
       "      <td>SPG56</td>\n",
       "      <td>1</td>\n",
       "      <td>CAUSES</td>\n",
       "      <td>6690</td>\n",
       "      <td>Complicated hereditary spastic paraplegia</td>\n",
       "      <td>-3.952510</td>\n",
       "      <td>False</td>\n",
       "    </tr>\n",
       "    <tr>\n",
       "      <th>14504</th>\n",
       "      <td>11324</td>\n",
       "      <td>GUCA1A</td>\n",
       "      <td>0</td>\n",
       "      <td>ASSOCIATED_WITH</td>\n",
       "      <td>16168</td>\n",
       "      <td>Leber's amaurosis</td>\n",
       "      <td>-3.952955</td>\n",
       "      <td>False</td>\n",
       "    </tr>\n",
       "    <tr>\n",
       "      <th>14531</th>\n",
       "      <td>25018</td>\n",
       "      <td>SGCA</td>\n",
       "      <td>0</td>\n",
       "      <td>ASSOCIATED_WITH</td>\n",
       "      <td>18378</td>\n",
       "      <td>Muscular Dystrophies, Limb-Girdle</td>\n",
       "      <td>-3.954400</td>\n",
       "      <td>False</td>\n",
       "    </tr>\n",
       "    <tr>\n",
       "      <th>14573</th>\n",
       "      <td>1349</td>\n",
       "      <td>ATP13A2</td>\n",
       "      <td>0</td>\n",
       "      <td>ASSOCIATED_WITH</td>\n",
       "      <td>2887</td>\n",
       "      <td>Autosomal Recessive Juvenile Parkinson Disease</td>\n",
       "      <td>-3.956141</td>\n",
       "      <td>False</td>\n",
       "    </tr>\n",
       "    <tr>\n",
       "      <th>14699</th>\n",
       "      <td>32302</td>\n",
       "      <td>hemoglobin A2'|HBA2</td>\n",
       "      <td>0</td>\n",
       "      <td>ASSOCIATED_WITH</td>\n",
       "      <td>30976</td>\n",
       "      <td>beta Thalassemia, heterozygous</td>\n",
       "      <td>-3.961823</td>\n",
       "      <td>False</td>\n",
       "    </tr>\n",
       "    <tr>\n",
       "      <th>14756</th>\n",
       "      <td>27816</td>\n",
       "      <td>TMPRSS3</td>\n",
       "      <td>1</td>\n",
       "      <td>CAUSES</td>\n",
       "      <td>7853</td>\n",
       "      <td>Deafness</td>\n",
       "      <td>-3.964664</td>\n",
       "      <td>False</td>\n",
       "    </tr>\n",
       "    <tr>\n",
       "      <th>15096</th>\n",
       "      <td>16821</td>\n",
       "      <td>MCM3AP</td>\n",
       "      <td>0</td>\n",
       "      <td>ASSOCIATED_WITH</td>\n",
       "      <td>7911</td>\n",
       "      <td>Dejerine-Sottas Disease (disorder)</td>\n",
       "      <td>-3.977797</td>\n",
       "      <td>False</td>\n",
       "    </tr>\n",
       "    <tr>\n",
       "      <th>15126</th>\n",
       "      <td>5619</td>\n",
       "      <td>CYP4V2 gene|CYP4V2</td>\n",
       "      <td>0</td>\n",
       "      <td>ASSOCIATED_WITH</td>\n",
       "      <td>3512</td>\n",
       "      <td>Blindness, Complete</td>\n",
       "      <td>-3.979158</td>\n",
       "      <td>False</td>\n",
       "    </tr>\n",
       "    <tr>\n",
       "      <th>15174</th>\n",
       "      <td>5056</td>\n",
       "      <td>COL4A4 gene|COL4A4</td>\n",
       "      <td>1</td>\n",
       "      <td>CAUSES</td>\n",
       "      <td>2102</td>\n",
       "      <td>Alport Syndrome, Autosomal Dominant</td>\n",
       "      <td>-3.981435</td>\n",
       "      <td>False</td>\n",
       "    </tr>\n",
       "    <tr>\n",
       "      <th>15256</th>\n",
       "      <td>5075</td>\n",
       "      <td>COL7A1</td>\n",
       "      <td>1</td>\n",
       "      <td>CAUSES</td>\n",
       "      <td>9225</td>\n",
       "      <td>Epidermolysis bullosa pruriginosa</td>\n",
       "      <td>-3.984959</td>\n",
       "      <td>False</td>\n",
       "    </tr>\n",
       "    <tr>\n",
       "      <th>15257</th>\n",
       "      <td>8797</td>\n",
       "      <td>ERLIN2</td>\n",
       "      <td>1</td>\n",
       "      <td>CAUSES</td>\n",
       "      <td>23091</td>\n",
       "      <td>Pure hereditary spastic paraplegia</td>\n",
       "      <td>-3.984959</td>\n",
       "      <td>False</td>\n",
       "    </tr>\n",
       "    <tr>\n",
       "      <th>15293</th>\n",
       "      <td>5291</td>\n",
       "      <td>CRX gene</td>\n",
       "      <td>0</td>\n",
       "      <td>ASSOCIATED_WITH</td>\n",
       "      <td>24530</td>\n",
       "      <td>Rod dystrophy</td>\n",
       "      <td>-3.986443</td>\n",
       "      <td>False</td>\n",
       "    </tr>\n",
       "    <tr>\n",
       "      <th>15383</th>\n",
       "      <td>33210</td>\n",
       "      <td>negative elongation factor|NSMF</td>\n",
       "      <td>1</td>\n",
       "      <td>CAUSES</td>\n",
       "      <td>15473</td>\n",
       "      <td>Kallmann Syndrome</td>\n",
       "      <td>-3.989910</td>\n",
       "      <td>False</td>\n",
       "    </tr>\n",
       "    <tr>\n",
       "      <th>15409</th>\n",
       "      <td>7673</td>\n",
       "      <td>DOK7</td>\n",
       "      <td>0</td>\n",
       "      <td>ASSOCIATED_WITH</td>\n",
       "      <td>6790</td>\n",
       "      <td>Congenital myasthenia</td>\n",
       "      <td>-3.991050</td>\n",
       "      <td>False</td>\n",
       "    </tr>\n",
       "    <tr>\n",
       "      <th>15466</th>\n",
       "      <td>11841</td>\n",
       "      <td>Gonadotropins</td>\n",
       "      <td>1</td>\n",
       "      <td>CAUSES</td>\n",
       "      <td>15555</td>\n",
       "      <td>Klinefelter Syndrome</td>\n",
       "      <td>-3.993670</td>\n",
       "      <td>False</td>\n",
       "    </tr>\n",
       "    <tr>\n",
       "      <th>15506</th>\n",
       "      <td>11653</td>\n",
       "      <td>Globin</td>\n",
       "      <td>0</td>\n",
       "      <td>ASSOCIATED_WITH</td>\n",
       "      <td>30667</td>\n",
       "      <td>alpha-Thalassemia</td>\n",
       "      <td>-3.995112</td>\n",
       "      <td>False</td>\n",
       "    </tr>\n",
       "    <tr>\n",
       "      <th>15571</th>\n",
       "      <td>31065</td>\n",
       "      <td>bilirubin glucuronoside glucuronosyltransferase</td>\n",
       "      <td>0</td>\n",
       "      <td>ASSOCIATED_WITH</td>\n",
       "      <td>13305</td>\n",
       "      <td>Hyperbilirubinemia</td>\n",
       "      <td>-3.997809</td>\n",
       "      <td>False</td>\n",
       "    </tr>\n",
       "    <tr>\n",
       "      <th>15726</th>\n",
       "      <td>16014</td>\n",
       "      <td>LRSAM1</td>\n",
       "      <td>0</td>\n",
       "      <td>ASSOCIATED_WITH</td>\n",
       "      <td>7911</td>\n",
       "      <td>Dejerine-Sottas Disease (disorder)</td>\n",
       "      <td>-4.004491</td>\n",
       "      <td>False</td>\n",
       "    </tr>\n",
       "    <tr>\n",
       "      <th>15761</th>\n",
       "      <td>23428</td>\n",
       "      <td>RDH5 gene|RDH5</td>\n",
       "      <td>1</td>\n",
       "      <td>CAUSES</td>\n",
       "      <td>6710</td>\n",
       "      <td>Cone dystrophy</td>\n",
       "      <td>-4.006165</td>\n",
       "      <td>False</td>\n",
       "    </tr>\n",
       "    <tr>\n",
       "      <th>15792</th>\n",
       "      <td>32351</td>\n",
       "      <td>hepatic lipase</td>\n",
       "      <td>0</td>\n",
       "      <td>ASSOCIATED_WITH</td>\n",
       "      <td>13344</td>\n",
       "      <td>Hyperlipoproteinemia</td>\n",
       "      <td>-4.007644</td>\n",
       "      <td>False</td>\n",
       "    </tr>\n",
       "    <tr>\n",
       "      <th>15879</th>\n",
       "      <td>11300</td>\n",
       "      <td>GTF2H5</td>\n",
       "      <td>0</td>\n",
       "      <td>ASSOCIATED_WITH</td>\n",
       "      <td>28897</td>\n",
       "      <td>Trichothiodystrophy</td>\n",
       "      <td>-4.010834</td>\n",
       "      <td>False</td>\n",
       "    </tr>\n",
       "    <tr>\n",
       "      <th>15886</th>\n",
       "      <td>3373</td>\n",
       "      <td>Basal insulin</td>\n",
       "      <td>0</td>\n",
       "      <td>ASSOCIATED_WITH</td>\n",
       "      <td>13336</td>\n",
       "      <td>Hyperinsulinism</td>\n",
       "      <td>-4.011306</td>\n",
       "      <td>False</td>\n",
       "    </tr>\n",
       "    <tr>\n",
       "      <th>15943</th>\n",
       "      <td>17402</td>\n",
       "      <td>MPZ</td>\n",
       "      <td>1</td>\n",
       "      <td>CAUSES</td>\n",
       "      <td>7911</td>\n",
       "      <td>Dejerine-Sottas Disease (disorder)</td>\n",
       "      <td>-4.013626</td>\n",
       "      <td>False</td>\n",
       "    </tr>\n",
       "    <tr>\n",
       "      <th>15988</th>\n",
       "      <td>2563</td>\n",
       "      <td>Apolipoproteins</td>\n",
       "      <td>0</td>\n",
       "      <td>ASSOCIATED_WITH</td>\n",
       "      <td>13311</td>\n",
       "      <td>Hypercholesterolemia</td>\n",
       "      <td>-4.015172</td>\n",
       "      <td>False</td>\n",
       "    </tr>\n",
       "    <tr>\n",
       "      <th>16021</th>\n",
       "      <td>5291</td>\n",
       "      <td>CRX gene</td>\n",
       "      <td>1</td>\n",
       "      <td>CAUSES</td>\n",
       "      <td>24530</td>\n",
       "      <td>Rod dystrophy</td>\n",
       "      <td>-4.016203</td>\n",
       "      <td>False</td>\n",
       "    </tr>\n",
       "    <tr>\n",
       "      <th>16188</th>\n",
       "      <td>28269</td>\n",
       "      <td>TSH receptor antibody</td>\n",
       "      <td>0</td>\n",
       "      <td>ASSOCIATED_WITH</td>\n",
       "      <td>19415</td>\n",
       "      <td>Neonatal thyrotoxicosis</td>\n",
       "      <td>-4.023067</td>\n",
       "      <td>False</td>\n",
       "    </tr>\n",
       "    <tr>\n",
       "      <th>16232</th>\n",
       "      <td>29184</td>\n",
       "      <td>UDP-Glucuronosyltransferase 1A1|SLC35A2|UGT1A</td>\n",
       "      <td>1</td>\n",
       "      <td>CAUSES</td>\n",
       "      <td>6967</td>\n",
       "      <td>Crigler-Najjar syndrome, type II</td>\n",
       "      <td>-4.024575</td>\n",
       "      <td>False</td>\n",
       "    </tr>\n",
       "    <tr>\n",
       "      <th>16358</th>\n",
       "      <td>10889</td>\n",
       "      <td>GIPC3</td>\n",
       "      <td>0</td>\n",
       "      <td>ASSOCIATED_WITH</td>\n",
       "      <td>24144</td>\n",
       "      <td>Recessive sensorineural hearing loss</td>\n",
       "      <td>-4.029189</td>\n",
       "      <td>False</td>\n",
       "    </tr>\n",
       "    <tr>\n",
       "      <th>16415</th>\n",
       "      <td>10931</td>\n",
       "      <td>GLB1</td>\n",
       "      <td>1</td>\n",
       "      <td>CAUSES</td>\n",
       "      <td>11403</td>\n",
       "      <td>Gangliosidosis GM1</td>\n",
       "      <td>-4.030868</td>\n",
       "      <td>False</td>\n",
       "    </tr>\n",
       "  </tbody>\n",
       "</table>\n",
       "</div>"
      ],
      "text/plain": [
       "       head_id                                         head_label  \\\n",
       "2551      5076                                 COL7A1 gene|COL7A1   \n",
       "4633     17402                                                MPZ   \n",
       "4845     32302                                hemoglobin A2'|HBA2   \n",
       "7550     22094                               Peroxisomal thiolase   \n",
       "8431     15297                                             KISS1R   \n",
       "10753    21467                                              PRSS1   \n",
       "11103    29184      UDP-Glucuronosyltransferase 1A1|SLC35A2|UGT1A   \n",
       "11379    24768                                   SCN5A gene|SCN5A   \n",
       "11806    21038                                   PMP22 gene|PMP22   \n",
       "12071    30654                                      alpha-Globins   \n",
       "12478    33334            nucleoside triphosphate pyrophosphatase   \n",
       "12513    21426                                   PROM1 gene|PROM1   \n",
       "12753    25071                                             SH3TC2   \n",
       "12864     2098                                Alpha-neuraminidase   \n",
       "13066    16821                                             MCM3AP   \n",
       "13146    15156                                              KCNT1   \n",
       "13499     2488                        Antiphospholipid Antibodies   \n",
       "13869    10915                                     GJB6 gene|GJB6   \n",
       "13986    32043                                  gamma-Sarcoglycan   \n",
       "14144    25096                                  SHOX protein|SHOX   \n",
       "14387    29690  Vascular Endothelial Growth Factor Receptor-3|...   \n",
       "14494    25853                                              SPG56   \n",
       "14504    11324                                             GUCA1A   \n",
       "14531    25018                                               SGCA   \n",
       "14573     1349                                            ATP13A2   \n",
       "14699    32302                                hemoglobin A2'|HBA2   \n",
       "14756    27816                                            TMPRSS3   \n",
       "15096    16821                                             MCM3AP   \n",
       "15126     5619                                 CYP4V2 gene|CYP4V2   \n",
       "15174     5056                                 COL4A4 gene|COL4A4   \n",
       "15256     5075                                             COL7A1   \n",
       "15257     8797                                             ERLIN2   \n",
       "15293     5291                                           CRX gene   \n",
       "15383    33210                    negative elongation factor|NSMF   \n",
       "15409     7673                                               DOK7   \n",
       "15466    11841                                      Gonadotropins   \n",
       "15506    11653                                             Globin   \n",
       "15571    31065    bilirubin glucuronoside glucuronosyltransferase   \n",
       "15726    16014                                             LRSAM1   \n",
       "15761    23428                                     RDH5 gene|RDH5   \n",
       "15792    32351                                     hepatic lipase   \n",
       "15879    11300                                             GTF2H5   \n",
       "15886     3373                                      Basal insulin   \n",
       "15943    17402                                                MPZ   \n",
       "15988     2563                                    Apolipoproteins   \n",
       "16021     5291                                           CRX gene   \n",
       "16188    28269                              TSH receptor antibody   \n",
       "16232    29184      UDP-Glucuronosyltransferase 1A1|SLC35A2|UGT1A   \n",
       "16358    10889                                              GIPC3   \n",
       "16415    10931                                               GLB1   \n",
       "\n",
       "       relation_id   relation_label  tail_id  \\\n",
       "2551             0  ASSOCIATED_WITH     9225   \n",
       "4633             0  ASSOCIATED_WITH     7911   \n",
       "4845             0  ASSOCIATED_WITH    31614   \n",
       "7550             0  ASSOCIATED_WITH    24282   \n",
       "8431             1           CAUSES     5948   \n",
       "10753            0  ASSOCIATED_WITH    10186   \n",
       "11103            0  ASSOCIATED_WITH    29375   \n",
       "11379            0  ASSOCIATED_WITH    29750   \n",
       "11806            1           CAUSES     7911   \n",
       "12071            0  ASSOCIATED_WITH     2088   \n",
       "12478            0  ASSOCIATED_WITH     5678   \n",
       "12513            1           CAUSES     6712   \n",
       "12753            0  ASSOCIATED_WITH     7911   \n",
       "12864            1           CAUSES     6592   \n",
       "13066            1           CAUSES     7911   \n",
       "13146            1           CAUSES     8925   \n",
       "13499            0  ASSOCIATED_WITH     2490   \n",
       "13869            0  ASSOCIATED_WITH     9331   \n",
       "13986            1           CAUSES    18378   \n",
       "14144            1           CAUSES    18003   \n",
       "14387            1           CAUSES    13019   \n",
       "14494            1           CAUSES     6690   \n",
       "14504            0  ASSOCIATED_WITH    16168   \n",
       "14531            0  ASSOCIATED_WITH    18378   \n",
       "14573            0  ASSOCIATED_WITH     2887   \n",
       "14699            0  ASSOCIATED_WITH    30976   \n",
       "14756            1           CAUSES     7853   \n",
       "15096            0  ASSOCIATED_WITH     7911   \n",
       "15126            0  ASSOCIATED_WITH     3512   \n",
       "15174            1           CAUSES     2102   \n",
       "15256            1           CAUSES     9225   \n",
       "15257            1           CAUSES    23091   \n",
       "15293            0  ASSOCIATED_WITH    24530   \n",
       "15383            1           CAUSES    15473   \n",
       "15409            0  ASSOCIATED_WITH     6790   \n",
       "15466            1           CAUSES    15555   \n",
       "15506            0  ASSOCIATED_WITH    30667   \n",
       "15571            0  ASSOCIATED_WITH    13305   \n",
       "15726            0  ASSOCIATED_WITH     7911   \n",
       "15761            1           CAUSES     6710   \n",
       "15792            0  ASSOCIATED_WITH    13344   \n",
       "15879            0  ASSOCIATED_WITH    28897   \n",
       "15886            0  ASSOCIATED_WITH    13336   \n",
       "15943            1           CAUSES     7911   \n",
       "15988            0  ASSOCIATED_WITH    13311   \n",
       "16021            1           CAUSES    24530   \n",
       "16188            0  ASSOCIATED_WITH    19415   \n",
       "16232            1           CAUSES     6967   \n",
       "16358            0  ASSOCIATED_WITH    24144   \n",
       "16415            1           CAUSES    11403   \n",
       "\n",
       "                                              tail_label     score  \\\n",
       "2551                   Epidermolysis bullosa pruriginosa -3.399443   \n",
       "4633                  Dejerine-Sottas Disease (disorder) -3.523076   \n",
       "4845                                   delta Thalassemia -3.534009   \n",
       "7550                           Refsum Disease, Infantile -3.655327   \n",
       "8431                          Central precocious puberty -3.690685   \n",
       "10753                      Familial chronic pancreatitis -3.787548   \n",
       "11103                    Unconjugated hyperbilirubinemia -3.803428   \n",
       "11379                             Ventricular arrhythmia -3.816069   \n",
       "11806                 Dejerine-Sottas Disease (disorder) -3.834486   \n",
       "12071                            Alpha trait thalassemia -3.846810   \n",
       "12478         Calcium Pyrophosphate Dihydrate Deposition -3.863968   \n",
       "12513                               Cone-Rod Dystrophies -3.865411   \n",
       "12753                 Dejerine-Sottas Disease (disorder) -3.876216   \n",
       "12864  Combined deficiency of sialidase AND beta gala... -3.881897   \n",
       "13066                 Dejerine-Sottas Disease (disorder) -3.890651   \n",
       "13146  Early infantile epileptic encephalopathy with ... -3.894453   \n",
       "13499                          Antiphospholipid Syndrome -3.907983   \n",
       "13869                     Erythrokeratodermia variabilis -3.924407   \n",
       "13986                  Muscular Dystrophies, Limb-Girdle -3.929435   \n",
       "14144                                Mesomelic dysplasia -3.936560   \n",
       "14387                              Hereditary lymphedema -3.947434   \n",
       "14494          Complicated hereditary spastic paraplegia -3.952510   \n",
       "14504                                  Leber's amaurosis -3.952955   \n",
       "14531                  Muscular Dystrophies, Limb-Girdle -3.954400   \n",
       "14573     Autosomal Recessive Juvenile Parkinson Disease -3.956141   \n",
       "14699                     beta Thalassemia, heterozygous -3.961823   \n",
       "14756                                           Deafness -3.964664   \n",
       "15096                 Dejerine-Sottas Disease (disorder) -3.977797   \n",
       "15126                                Blindness, Complete -3.979158   \n",
       "15174                Alport Syndrome, Autosomal Dominant -3.981435   \n",
       "15256                  Epidermolysis bullosa pruriginosa -3.984959   \n",
       "15257                 Pure hereditary spastic paraplegia -3.984959   \n",
       "15293                                      Rod dystrophy -3.986443   \n",
       "15383                                  Kallmann Syndrome -3.989910   \n",
       "15409                              Congenital myasthenia -3.991050   \n",
       "15466                               Klinefelter Syndrome -3.993670   \n",
       "15506                                  alpha-Thalassemia -3.995112   \n",
       "15571                                 Hyperbilirubinemia -3.997809   \n",
       "15726                 Dejerine-Sottas Disease (disorder) -4.004491   \n",
       "15761                                     Cone dystrophy -4.006165   \n",
       "15792                               Hyperlipoproteinemia -4.007644   \n",
       "15879                                Trichothiodystrophy -4.010834   \n",
       "15886                                    Hyperinsulinism -4.011306   \n",
       "15943                 Dejerine-Sottas Disease (disorder) -4.013626   \n",
       "15988                               Hypercholesterolemia -4.015172   \n",
       "16021                                      Rod dystrophy -4.016203   \n",
       "16188                            Neonatal thyrotoxicosis -4.023067   \n",
       "16232                   Crigler-Najjar syndrome, type II -4.024575   \n",
       "16358               Recessive sensorineural hearing loss -4.029189   \n",
       "16415                                 Gangliosidosis GM1 -4.030868   \n",
       "\n",
       "       in_training  \n",
       "2551         False  \n",
       "4633         False  \n",
       "4845         False  \n",
       "7550         False  \n",
       "8431         False  \n",
       "10753        False  \n",
       "11103        False  \n",
       "11379        False  \n",
       "11806        False  \n",
       "12071        False  \n",
       "12478        False  \n",
       "12513        False  \n",
       "12753        False  \n",
       "12864        False  \n",
       "13066        False  \n",
       "13146        False  \n",
       "13499        False  \n",
       "13869        False  \n",
       "13986        False  \n",
       "14144        False  \n",
       "14387        False  \n",
       "14494        False  \n",
       "14504        False  \n",
       "14531        False  \n",
       "14573        False  \n",
       "14699        False  \n",
       "14756        False  \n",
       "15096        False  \n",
       "15126        False  \n",
       "15174        False  \n",
       "15256        False  \n",
       "15257        False  \n",
       "15293        False  \n",
       "15383        False  \n",
       "15409        False  \n",
       "15466        False  \n",
       "15506        False  \n",
       "15571        False  \n",
       "15726        False  \n",
       "15761        False  \n",
       "15792        False  \n",
       "15879        False  \n",
       "15886        False  \n",
       "15943        False  \n",
       "15988        False  \n",
       "16021        False  \n",
       "16188        False  \n",
       "16232        False  \n",
       "16358        False  \n",
       "16415        False  "
      ]
     },
     "execution_count": 13,
     "metadata": {},
     "output_type": "execute_result"
    }
   ],
   "source": [
    "top_df[top_df['in_training'] == False].sort_values(by=['score'], ascending=False).head(50)"
   ]
  },
  {
   "cell_type": "code",
   "execution_count": 16,
   "id": "3acbc101",
   "metadata": {},
   "outputs": [],
   "source": [
    "d = top_df[top_df['in_training'] == False].sort_values(by=['score'], ascending=False).head(50)\n",
    "all_data = []\n",
    "for i, row in d.iterrows():\n",
    "    try:\n",
    "        r = read_query(f\"\"\"MATCH (g:gngm)-[:{row['relation_label']}]-(d:dsyn) \n",
    "                   WHERE g.name = $gene AND d.name = $dsyn\n",
    "                   RETURN distinct true AS result\"\"\", {'gene': row['head_label'], 'dsyn': row['tail_label']})['result'][0]\n",
    "        all_data.append(True)\n",
    "    except:\n",
    "        all_data.append(False)\n",
    "\n",
    "d['already_exists'] = all_data"
   ]
  },
  {
   "cell_type": "code",
   "execution_count": 17,
   "id": "07c3cbc0",
   "metadata": {},
   "outputs": [
    {
     "data": {
      "text/html": [
       "<div>\n",
       "<style scoped>\n",
       "    .dataframe tbody tr th:only-of-type {\n",
       "        vertical-align: middle;\n",
       "    }\n",
       "\n",
       "    .dataframe tbody tr th {\n",
       "        vertical-align: top;\n",
       "    }\n",
       "\n",
       "    .dataframe thead th {\n",
       "        text-align: right;\n",
       "    }\n",
       "</style>\n",
       "<table border=\"1\" class=\"dataframe\">\n",
       "  <thead>\n",
       "    <tr style=\"text-align: right;\">\n",
       "      <th></th>\n",
       "      <th>head_id</th>\n",
       "      <th>head_label</th>\n",
       "      <th>relation_id</th>\n",
       "      <th>relation_label</th>\n",
       "      <th>tail_id</th>\n",
       "      <th>tail_label</th>\n",
       "      <th>score</th>\n",
       "      <th>in_training</th>\n",
       "      <th>already_exists</th>\n",
       "    </tr>\n",
       "  </thead>\n",
       "  <tbody>\n",
       "    <tr>\n",
       "      <th>2551</th>\n",
       "      <td>5076</td>\n",
       "      <td>COL7A1 gene|COL7A1</td>\n",
       "      <td>0</td>\n",
       "      <td>ASSOCIATED_WITH</td>\n",
       "      <td>9225</td>\n",
       "      <td>Epidermolysis bullosa pruriginosa</td>\n",
       "      <td>-3.399443</td>\n",
       "      <td>False</td>\n",
       "      <td>False</td>\n",
       "    </tr>\n",
       "    <tr>\n",
       "      <th>4633</th>\n",
       "      <td>17402</td>\n",
       "      <td>MPZ</td>\n",
       "      <td>0</td>\n",
       "      <td>ASSOCIATED_WITH</td>\n",
       "      <td>7911</td>\n",
       "      <td>Dejerine-Sottas Disease (disorder)</td>\n",
       "      <td>-3.523076</td>\n",
       "      <td>False</td>\n",
       "      <td>False</td>\n",
       "    </tr>\n",
       "    <tr>\n",
       "      <th>4845</th>\n",
       "      <td>32302</td>\n",
       "      <td>hemoglobin A2'|HBA2</td>\n",
       "      <td>0</td>\n",
       "      <td>ASSOCIATED_WITH</td>\n",
       "      <td>31614</td>\n",
       "      <td>delta Thalassemia</td>\n",
       "      <td>-3.534009</td>\n",
       "      <td>False</td>\n",
       "      <td>False</td>\n",
       "    </tr>\n",
       "    <tr>\n",
       "      <th>7550</th>\n",
       "      <td>22094</td>\n",
       "      <td>Peroxisomal thiolase</td>\n",
       "      <td>0</td>\n",
       "      <td>ASSOCIATED_WITH</td>\n",
       "      <td>24282</td>\n",
       "      <td>Refsum Disease, Infantile</td>\n",
       "      <td>-3.655327</td>\n",
       "      <td>False</td>\n",
       "      <td>False</td>\n",
       "    </tr>\n",
       "    <tr>\n",
       "      <th>8431</th>\n",
       "      <td>15297</td>\n",
       "      <td>KISS1R</td>\n",
       "      <td>1</td>\n",
       "      <td>CAUSES</td>\n",
       "      <td>5948</td>\n",
       "      <td>Central precocious puberty</td>\n",
       "      <td>-3.690685</td>\n",
       "      <td>False</td>\n",
       "      <td>False</td>\n",
       "    </tr>\n",
       "    <tr>\n",
       "      <th>10753</th>\n",
       "      <td>21467</td>\n",
       "      <td>PRSS1</td>\n",
       "      <td>0</td>\n",
       "      <td>ASSOCIATED_WITH</td>\n",
       "      <td>10186</td>\n",
       "      <td>Familial chronic pancreatitis</td>\n",
       "      <td>-3.787548</td>\n",
       "      <td>False</td>\n",
       "      <td>False</td>\n",
       "    </tr>\n",
       "    <tr>\n",
       "      <th>11103</th>\n",
       "      <td>29184</td>\n",
       "      <td>UDP-Glucuronosyltransferase 1A1|SLC35A2|UGT1A</td>\n",
       "      <td>0</td>\n",
       "      <td>ASSOCIATED_WITH</td>\n",
       "      <td>29375</td>\n",
       "      <td>Unconjugated hyperbilirubinemia</td>\n",
       "      <td>-3.803428</td>\n",
       "      <td>False</td>\n",
       "      <td>False</td>\n",
       "    </tr>\n",
       "    <tr>\n",
       "      <th>11379</th>\n",
       "      <td>24768</td>\n",
       "      <td>SCN5A gene|SCN5A</td>\n",
       "      <td>0</td>\n",
       "      <td>ASSOCIATED_WITH</td>\n",
       "      <td>29750</td>\n",
       "      <td>Ventricular arrhythmia</td>\n",
       "      <td>-3.816069</td>\n",
       "      <td>False</td>\n",
       "      <td>False</td>\n",
       "    </tr>\n",
       "    <tr>\n",
       "      <th>11806</th>\n",
       "      <td>21038</td>\n",
       "      <td>PMP22 gene|PMP22</td>\n",
       "      <td>1</td>\n",
       "      <td>CAUSES</td>\n",
       "      <td>7911</td>\n",
       "      <td>Dejerine-Sottas Disease (disorder)</td>\n",
       "      <td>-3.834486</td>\n",
       "      <td>False</td>\n",
       "      <td>False</td>\n",
       "    </tr>\n",
       "    <tr>\n",
       "      <th>12071</th>\n",
       "      <td>30654</td>\n",
       "      <td>alpha-Globins</td>\n",
       "      <td>0</td>\n",
       "      <td>ASSOCIATED_WITH</td>\n",
       "      <td>2088</td>\n",
       "      <td>Alpha trait thalassemia</td>\n",
       "      <td>-3.846810</td>\n",
       "      <td>False</td>\n",
       "      <td>False</td>\n",
       "    </tr>\n",
       "    <tr>\n",
       "      <th>12478</th>\n",
       "      <td>33334</td>\n",
       "      <td>nucleoside triphosphate pyrophosphatase</td>\n",
       "      <td>0</td>\n",
       "      <td>ASSOCIATED_WITH</td>\n",
       "      <td>5678</td>\n",
       "      <td>Calcium Pyrophosphate Dihydrate Deposition</td>\n",
       "      <td>-3.863968</td>\n",
       "      <td>False</td>\n",
       "      <td>False</td>\n",
       "    </tr>\n",
       "    <tr>\n",
       "      <th>12513</th>\n",
       "      <td>21426</td>\n",
       "      <td>PROM1 gene|PROM1</td>\n",
       "      <td>1</td>\n",
       "      <td>CAUSES</td>\n",
       "      <td>6712</td>\n",
       "      <td>Cone-Rod Dystrophies</td>\n",
       "      <td>-3.865411</td>\n",
       "      <td>False</td>\n",
       "      <td>False</td>\n",
       "    </tr>\n",
       "    <tr>\n",
       "      <th>12753</th>\n",
       "      <td>25071</td>\n",
       "      <td>SH3TC2</td>\n",
       "      <td>0</td>\n",
       "      <td>ASSOCIATED_WITH</td>\n",
       "      <td>7911</td>\n",
       "      <td>Dejerine-Sottas Disease (disorder)</td>\n",
       "      <td>-3.876216</td>\n",
       "      <td>False</td>\n",
       "      <td>False</td>\n",
       "    </tr>\n",
       "    <tr>\n",
       "      <th>12864</th>\n",
       "      <td>2098</td>\n",
       "      <td>Alpha-neuraminidase</td>\n",
       "      <td>1</td>\n",
       "      <td>CAUSES</td>\n",
       "      <td>6592</td>\n",
       "      <td>Combined deficiency of sialidase AND beta gala...</td>\n",
       "      <td>-3.881897</td>\n",
       "      <td>False</td>\n",
       "      <td>False</td>\n",
       "    </tr>\n",
       "    <tr>\n",
       "      <th>13066</th>\n",
       "      <td>16821</td>\n",
       "      <td>MCM3AP</td>\n",
       "      <td>1</td>\n",
       "      <td>CAUSES</td>\n",
       "      <td>7911</td>\n",
       "      <td>Dejerine-Sottas Disease (disorder)</td>\n",
       "      <td>-3.890651</td>\n",
       "      <td>False</td>\n",
       "      <td>False</td>\n",
       "    </tr>\n",
       "    <tr>\n",
       "      <th>13146</th>\n",
       "      <td>15156</td>\n",
       "      <td>KCNT1</td>\n",
       "      <td>1</td>\n",
       "      <td>CAUSES</td>\n",
       "      <td>8925</td>\n",
       "      <td>Early infantile epileptic encephalopathy with ...</td>\n",
       "      <td>-3.894453</td>\n",
       "      <td>False</td>\n",
       "      <td>False</td>\n",
       "    </tr>\n",
       "    <tr>\n",
       "      <th>13869</th>\n",
       "      <td>10915</td>\n",
       "      <td>GJB6 gene|GJB6</td>\n",
       "      <td>0</td>\n",
       "      <td>ASSOCIATED_WITH</td>\n",
       "      <td>9331</td>\n",
       "      <td>Erythrokeratodermia variabilis</td>\n",
       "      <td>-3.924407</td>\n",
       "      <td>False</td>\n",
       "      <td>False</td>\n",
       "    </tr>\n",
       "    <tr>\n",
       "      <th>13986</th>\n",
       "      <td>32043</td>\n",
       "      <td>gamma-Sarcoglycan</td>\n",
       "      <td>1</td>\n",
       "      <td>CAUSES</td>\n",
       "      <td>18378</td>\n",
       "      <td>Muscular Dystrophies, Limb-Girdle</td>\n",
       "      <td>-3.929435</td>\n",
       "      <td>False</td>\n",
       "      <td>False</td>\n",
       "    </tr>\n",
       "    <tr>\n",
       "      <th>14144</th>\n",
       "      <td>25096</td>\n",
       "      <td>SHOX protein|SHOX</td>\n",
       "      <td>1</td>\n",
       "      <td>CAUSES</td>\n",
       "      <td>18003</td>\n",
       "      <td>Mesomelic dysplasia</td>\n",
       "      <td>-3.936560</td>\n",
       "      <td>False</td>\n",
       "      <td>False</td>\n",
       "    </tr>\n",
       "    <tr>\n",
       "      <th>14387</th>\n",
       "      <td>29690</td>\n",
       "      <td>Vascular Endothelial Growth Factor Receptor-3|...</td>\n",
       "      <td>1</td>\n",
       "      <td>CAUSES</td>\n",
       "      <td>13019</td>\n",
       "      <td>Hereditary lymphedema</td>\n",
       "      <td>-3.947434</td>\n",
       "      <td>False</td>\n",
       "      <td>False</td>\n",
       "    </tr>\n",
       "    <tr>\n",
       "      <th>14494</th>\n",
       "      <td>25853</td>\n",
       "      <td>SPG56</td>\n",
       "      <td>1</td>\n",
       "      <td>CAUSES</td>\n",
       "      <td>6690</td>\n",
       "      <td>Complicated hereditary spastic paraplegia</td>\n",
       "      <td>-3.952510</td>\n",
       "      <td>False</td>\n",
       "      <td>False</td>\n",
       "    </tr>\n",
       "    <tr>\n",
       "      <th>14504</th>\n",
       "      <td>11324</td>\n",
       "      <td>GUCA1A</td>\n",
       "      <td>0</td>\n",
       "      <td>ASSOCIATED_WITH</td>\n",
       "      <td>16168</td>\n",
       "      <td>Leber's amaurosis</td>\n",
       "      <td>-3.952955</td>\n",
       "      <td>False</td>\n",
       "      <td>False</td>\n",
       "    </tr>\n",
       "    <tr>\n",
       "      <th>14531</th>\n",
       "      <td>25018</td>\n",
       "      <td>SGCA</td>\n",
       "      <td>0</td>\n",
       "      <td>ASSOCIATED_WITH</td>\n",
       "      <td>18378</td>\n",
       "      <td>Muscular Dystrophies, Limb-Girdle</td>\n",
       "      <td>-3.954400</td>\n",
       "      <td>False</td>\n",
       "      <td>False</td>\n",
       "    </tr>\n",
       "    <tr>\n",
       "      <th>14573</th>\n",
       "      <td>1349</td>\n",
       "      <td>ATP13A2</td>\n",
       "      <td>0</td>\n",
       "      <td>ASSOCIATED_WITH</td>\n",
       "      <td>2887</td>\n",
       "      <td>Autosomal Recessive Juvenile Parkinson Disease</td>\n",
       "      <td>-3.956141</td>\n",
       "      <td>False</td>\n",
       "      <td>False</td>\n",
       "    </tr>\n",
       "    <tr>\n",
       "      <th>14699</th>\n",
       "      <td>32302</td>\n",
       "      <td>hemoglobin A2'|HBA2</td>\n",
       "      <td>0</td>\n",
       "      <td>ASSOCIATED_WITH</td>\n",
       "      <td>30976</td>\n",
       "      <td>beta Thalassemia, heterozygous</td>\n",
       "      <td>-3.961823</td>\n",
       "      <td>False</td>\n",
       "      <td>False</td>\n",
       "    </tr>\n",
       "    <tr>\n",
       "      <th>15096</th>\n",
       "      <td>16821</td>\n",
       "      <td>MCM3AP</td>\n",
       "      <td>0</td>\n",
       "      <td>ASSOCIATED_WITH</td>\n",
       "      <td>7911</td>\n",
       "      <td>Dejerine-Sottas Disease (disorder)</td>\n",
       "      <td>-3.977797</td>\n",
       "      <td>False</td>\n",
       "      <td>False</td>\n",
       "    </tr>\n",
       "    <tr>\n",
       "      <th>15126</th>\n",
       "      <td>5619</td>\n",
       "      <td>CYP4V2 gene|CYP4V2</td>\n",
       "      <td>0</td>\n",
       "      <td>ASSOCIATED_WITH</td>\n",
       "      <td>3512</td>\n",
       "      <td>Blindness, Complete</td>\n",
       "      <td>-3.979158</td>\n",
       "      <td>False</td>\n",
       "      <td>False</td>\n",
       "    </tr>\n",
       "    <tr>\n",
       "      <th>15174</th>\n",
       "      <td>5056</td>\n",
       "      <td>COL4A4 gene|COL4A4</td>\n",
       "      <td>1</td>\n",
       "      <td>CAUSES</td>\n",
       "      <td>2102</td>\n",
       "      <td>Alport Syndrome, Autosomal Dominant</td>\n",
       "      <td>-3.981435</td>\n",
       "      <td>False</td>\n",
       "      <td>False</td>\n",
       "    </tr>\n",
       "    <tr>\n",
       "      <th>15257</th>\n",
       "      <td>8797</td>\n",
       "      <td>ERLIN2</td>\n",
       "      <td>1</td>\n",
       "      <td>CAUSES</td>\n",
       "      <td>23091</td>\n",
       "      <td>Pure hereditary spastic paraplegia</td>\n",
       "      <td>-3.984959</td>\n",
       "      <td>False</td>\n",
       "      <td>False</td>\n",
       "    </tr>\n",
       "    <tr>\n",
       "      <th>15293</th>\n",
       "      <td>5291</td>\n",
       "      <td>CRX gene</td>\n",
       "      <td>0</td>\n",
       "      <td>ASSOCIATED_WITH</td>\n",
       "      <td>24530</td>\n",
       "      <td>Rod dystrophy</td>\n",
       "      <td>-3.986443</td>\n",
       "      <td>False</td>\n",
       "      <td>False</td>\n",
       "    </tr>\n",
       "    <tr>\n",
       "      <th>15383</th>\n",
       "      <td>33210</td>\n",
       "      <td>negative elongation factor|NSMF</td>\n",
       "      <td>1</td>\n",
       "      <td>CAUSES</td>\n",
       "      <td>15473</td>\n",
       "      <td>Kallmann Syndrome</td>\n",
       "      <td>-3.989910</td>\n",
       "      <td>False</td>\n",
       "      <td>False</td>\n",
       "    </tr>\n",
       "    <tr>\n",
       "      <th>15409</th>\n",
       "      <td>7673</td>\n",
       "      <td>DOK7</td>\n",
       "      <td>0</td>\n",
       "      <td>ASSOCIATED_WITH</td>\n",
       "      <td>6790</td>\n",
       "      <td>Congenital myasthenia</td>\n",
       "      <td>-3.991050</td>\n",
       "      <td>False</td>\n",
       "      <td>False</td>\n",
       "    </tr>\n",
       "    <tr>\n",
       "      <th>15466</th>\n",
       "      <td>11841</td>\n",
       "      <td>Gonadotropins</td>\n",
       "      <td>1</td>\n",
       "      <td>CAUSES</td>\n",
       "      <td>15555</td>\n",
       "      <td>Klinefelter Syndrome</td>\n",
       "      <td>-3.993670</td>\n",
       "      <td>False</td>\n",
       "      <td>False</td>\n",
       "    </tr>\n",
       "    <tr>\n",
       "      <th>15571</th>\n",
       "      <td>31065</td>\n",
       "      <td>bilirubin glucuronoside glucuronosyltransferase</td>\n",
       "      <td>0</td>\n",
       "      <td>ASSOCIATED_WITH</td>\n",
       "      <td>13305</td>\n",
       "      <td>Hyperbilirubinemia</td>\n",
       "      <td>-3.997809</td>\n",
       "      <td>False</td>\n",
       "      <td>False</td>\n",
       "    </tr>\n",
       "    <tr>\n",
       "      <th>15726</th>\n",
       "      <td>16014</td>\n",
       "      <td>LRSAM1</td>\n",
       "      <td>0</td>\n",
       "      <td>ASSOCIATED_WITH</td>\n",
       "      <td>7911</td>\n",
       "      <td>Dejerine-Sottas Disease (disorder)</td>\n",
       "      <td>-4.004491</td>\n",
       "      <td>False</td>\n",
       "      <td>False</td>\n",
       "    </tr>\n",
       "    <tr>\n",
       "      <th>15761</th>\n",
       "      <td>23428</td>\n",
       "      <td>RDH5 gene|RDH5</td>\n",
       "      <td>1</td>\n",
       "      <td>CAUSES</td>\n",
       "      <td>6710</td>\n",
       "      <td>Cone dystrophy</td>\n",
       "      <td>-4.006165</td>\n",
       "      <td>False</td>\n",
       "      <td>False</td>\n",
       "    </tr>\n",
       "    <tr>\n",
       "      <th>15792</th>\n",
       "      <td>32351</td>\n",
       "      <td>hepatic lipase</td>\n",
       "      <td>0</td>\n",
       "      <td>ASSOCIATED_WITH</td>\n",
       "      <td>13344</td>\n",
       "      <td>Hyperlipoproteinemia</td>\n",
       "      <td>-4.007644</td>\n",
       "      <td>False</td>\n",
       "      <td>False</td>\n",
       "    </tr>\n",
       "    <tr>\n",
       "      <th>15879</th>\n",
       "      <td>11300</td>\n",
       "      <td>GTF2H5</td>\n",
       "      <td>0</td>\n",
       "      <td>ASSOCIATED_WITH</td>\n",
       "      <td>28897</td>\n",
       "      <td>Trichothiodystrophy</td>\n",
       "      <td>-4.010834</td>\n",
       "      <td>False</td>\n",
       "      <td>False</td>\n",
       "    </tr>\n",
       "    <tr>\n",
       "      <th>15943</th>\n",
       "      <td>17402</td>\n",
       "      <td>MPZ</td>\n",
       "      <td>1</td>\n",
       "      <td>CAUSES</td>\n",
       "      <td>7911</td>\n",
       "      <td>Dejerine-Sottas Disease (disorder)</td>\n",
       "      <td>-4.013626</td>\n",
       "      <td>False</td>\n",
       "      <td>False</td>\n",
       "    </tr>\n",
       "    <tr>\n",
       "      <th>16021</th>\n",
       "      <td>5291</td>\n",
       "      <td>CRX gene</td>\n",
       "      <td>1</td>\n",
       "      <td>CAUSES</td>\n",
       "      <td>24530</td>\n",
       "      <td>Rod dystrophy</td>\n",
       "      <td>-4.016203</td>\n",
       "      <td>False</td>\n",
       "      <td>False</td>\n",
       "    </tr>\n",
       "    <tr>\n",
       "      <th>16188</th>\n",
       "      <td>28269</td>\n",
       "      <td>TSH receptor antibody</td>\n",
       "      <td>0</td>\n",
       "      <td>ASSOCIATED_WITH</td>\n",
       "      <td>19415</td>\n",
       "      <td>Neonatal thyrotoxicosis</td>\n",
       "      <td>-4.023067</td>\n",
       "      <td>False</td>\n",
       "      <td>False</td>\n",
       "    </tr>\n",
       "    <tr>\n",
       "      <th>16232</th>\n",
       "      <td>29184</td>\n",
       "      <td>UDP-Glucuronosyltransferase 1A1|SLC35A2|UGT1A</td>\n",
       "      <td>1</td>\n",
       "      <td>CAUSES</td>\n",
       "      <td>6967</td>\n",
       "      <td>Crigler-Najjar syndrome, type II</td>\n",
       "      <td>-4.024575</td>\n",
       "      <td>False</td>\n",
       "      <td>False</td>\n",
       "    </tr>\n",
       "    <tr>\n",
       "      <th>16358</th>\n",
       "      <td>10889</td>\n",
       "      <td>GIPC3</td>\n",
       "      <td>0</td>\n",
       "      <td>ASSOCIATED_WITH</td>\n",
       "      <td>24144</td>\n",
       "      <td>Recessive sensorineural hearing loss</td>\n",
       "      <td>-4.029189</td>\n",
       "      <td>False</td>\n",
       "      <td>False</td>\n",
       "    </tr>\n",
       "  </tbody>\n",
       "</table>\n",
       "</div>"
      ],
      "text/plain": [
       "       head_id                                         head_label  \\\n",
       "2551      5076                                 COL7A1 gene|COL7A1   \n",
       "4633     17402                                                MPZ   \n",
       "4845     32302                                hemoglobin A2'|HBA2   \n",
       "7550     22094                               Peroxisomal thiolase   \n",
       "8431     15297                                             KISS1R   \n",
       "10753    21467                                              PRSS1   \n",
       "11103    29184      UDP-Glucuronosyltransferase 1A1|SLC35A2|UGT1A   \n",
       "11379    24768                                   SCN5A gene|SCN5A   \n",
       "11806    21038                                   PMP22 gene|PMP22   \n",
       "12071    30654                                      alpha-Globins   \n",
       "12478    33334            nucleoside triphosphate pyrophosphatase   \n",
       "12513    21426                                   PROM1 gene|PROM1   \n",
       "12753    25071                                             SH3TC2   \n",
       "12864     2098                                Alpha-neuraminidase   \n",
       "13066    16821                                             MCM3AP   \n",
       "13146    15156                                              KCNT1   \n",
       "13869    10915                                     GJB6 gene|GJB6   \n",
       "13986    32043                                  gamma-Sarcoglycan   \n",
       "14144    25096                                  SHOX protein|SHOX   \n",
       "14387    29690  Vascular Endothelial Growth Factor Receptor-3|...   \n",
       "14494    25853                                              SPG56   \n",
       "14504    11324                                             GUCA1A   \n",
       "14531    25018                                               SGCA   \n",
       "14573     1349                                            ATP13A2   \n",
       "14699    32302                                hemoglobin A2'|HBA2   \n",
       "15096    16821                                             MCM3AP   \n",
       "15126     5619                                 CYP4V2 gene|CYP4V2   \n",
       "15174     5056                                 COL4A4 gene|COL4A4   \n",
       "15257     8797                                             ERLIN2   \n",
       "15293     5291                                           CRX gene   \n",
       "15383    33210                    negative elongation factor|NSMF   \n",
       "15409     7673                                               DOK7   \n",
       "15466    11841                                      Gonadotropins   \n",
       "15571    31065    bilirubin glucuronoside glucuronosyltransferase   \n",
       "15726    16014                                             LRSAM1   \n",
       "15761    23428                                     RDH5 gene|RDH5   \n",
       "15792    32351                                     hepatic lipase   \n",
       "15879    11300                                             GTF2H5   \n",
       "15943    17402                                                MPZ   \n",
       "16021     5291                                           CRX gene   \n",
       "16188    28269                              TSH receptor antibody   \n",
       "16232    29184      UDP-Glucuronosyltransferase 1A1|SLC35A2|UGT1A   \n",
       "16358    10889                                              GIPC3   \n",
       "\n",
       "       relation_id   relation_label  tail_id  \\\n",
       "2551             0  ASSOCIATED_WITH     9225   \n",
       "4633             0  ASSOCIATED_WITH     7911   \n",
       "4845             0  ASSOCIATED_WITH    31614   \n",
       "7550             0  ASSOCIATED_WITH    24282   \n",
       "8431             1           CAUSES     5948   \n",
       "10753            0  ASSOCIATED_WITH    10186   \n",
       "11103            0  ASSOCIATED_WITH    29375   \n",
       "11379            0  ASSOCIATED_WITH    29750   \n",
       "11806            1           CAUSES     7911   \n",
       "12071            0  ASSOCIATED_WITH     2088   \n",
       "12478            0  ASSOCIATED_WITH     5678   \n",
       "12513            1           CAUSES     6712   \n",
       "12753            0  ASSOCIATED_WITH     7911   \n",
       "12864            1           CAUSES     6592   \n",
       "13066            1           CAUSES     7911   \n",
       "13146            1           CAUSES     8925   \n",
       "13869            0  ASSOCIATED_WITH     9331   \n",
       "13986            1           CAUSES    18378   \n",
       "14144            1           CAUSES    18003   \n",
       "14387            1           CAUSES    13019   \n",
       "14494            1           CAUSES     6690   \n",
       "14504            0  ASSOCIATED_WITH    16168   \n",
       "14531            0  ASSOCIATED_WITH    18378   \n",
       "14573            0  ASSOCIATED_WITH     2887   \n",
       "14699            0  ASSOCIATED_WITH    30976   \n",
       "15096            0  ASSOCIATED_WITH     7911   \n",
       "15126            0  ASSOCIATED_WITH     3512   \n",
       "15174            1           CAUSES     2102   \n",
       "15257            1           CAUSES    23091   \n",
       "15293            0  ASSOCIATED_WITH    24530   \n",
       "15383            1           CAUSES    15473   \n",
       "15409            0  ASSOCIATED_WITH     6790   \n",
       "15466            1           CAUSES    15555   \n",
       "15571            0  ASSOCIATED_WITH    13305   \n",
       "15726            0  ASSOCIATED_WITH     7911   \n",
       "15761            1           CAUSES     6710   \n",
       "15792            0  ASSOCIATED_WITH    13344   \n",
       "15879            0  ASSOCIATED_WITH    28897   \n",
       "15943            1           CAUSES     7911   \n",
       "16021            1           CAUSES    24530   \n",
       "16188            0  ASSOCIATED_WITH    19415   \n",
       "16232            1           CAUSES     6967   \n",
       "16358            0  ASSOCIATED_WITH    24144   \n",
       "\n",
       "                                              tail_label     score  \\\n",
       "2551                   Epidermolysis bullosa pruriginosa -3.399443   \n",
       "4633                  Dejerine-Sottas Disease (disorder) -3.523076   \n",
       "4845                                   delta Thalassemia -3.534009   \n",
       "7550                           Refsum Disease, Infantile -3.655327   \n",
       "8431                          Central precocious puberty -3.690685   \n",
       "10753                      Familial chronic pancreatitis -3.787548   \n",
       "11103                    Unconjugated hyperbilirubinemia -3.803428   \n",
       "11379                             Ventricular arrhythmia -3.816069   \n",
       "11806                 Dejerine-Sottas Disease (disorder) -3.834486   \n",
       "12071                            Alpha trait thalassemia -3.846810   \n",
       "12478         Calcium Pyrophosphate Dihydrate Deposition -3.863968   \n",
       "12513                               Cone-Rod Dystrophies -3.865411   \n",
       "12753                 Dejerine-Sottas Disease (disorder) -3.876216   \n",
       "12864  Combined deficiency of sialidase AND beta gala... -3.881897   \n",
       "13066                 Dejerine-Sottas Disease (disorder) -3.890651   \n",
       "13146  Early infantile epileptic encephalopathy with ... -3.894453   \n",
       "13869                     Erythrokeratodermia variabilis -3.924407   \n",
       "13986                  Muscular Dystrophies, Limb-Girdle -3.929435   \n",
       "14144                                Mesomelic dysplasia -3.936560   \n",
       "14387                              Hereditary lymphedema -3.947434   \n",
       "14494          Complicated hereditary spastic paraplegia -3.952510   \n",
       "14504                                  Leber's amaurosis -3.952955   \n",
       "14531                  Muscular Dystrophies, Limb-Girdle -3.954400   \n",
       "14573     Autosomal Recessive Juvenile Parkinson Disease -3.956141   \n",
       "14699                     beta Thalassemia, heterozygous -3.961823   \n",
       "15096                 Dejerine-Sottas Disease (disorder) -3.977797   \n",
       "15126                                Blindness, Complete -3.979158   \n",
       "15174                Alport Syndrome, Autosomal Dominant -3.981435   \n",
       "15257                 Pure hereditary spastic paraplegia -3.984959   \n",
       "15293                                      Rod dystrophy -3.986443   \n",
       "15383                                  Kallmann Syndrome -3.989910   \n",
       "15409                              Congenital myasthenia -3.991050   \n",
       "15466                               Klinefelter Syndrome -3.993670   \n",
       "15571                                 Hyperbilirubinemia -3.997809   \n",
       "15726                 Dejerine-Sottas Disease (disorder) -4.004491   \n",
       "15761                                     Cone dystrophy -4.006165   \n",
       "15792                               Hyperlipoproteinemia -4.007644   \n",
       "15879                                Trichothiodystrophy -4.010834   \n",
       "15943                 Dejerine-Sottas Disease (disorder) -4.013626   \n",
       "16021                                      Rod dystrophy -4.016203   \n",
       "16188                            Neonatal thyrotoxicosis -4.023067   \n",
       "16232                   Crigler-Najjar syndrome, type II -4.024575   \n",
       "16358               Recessive sensorineural hearing loss -4.029189   \n",
       "\n",
       "       in_training  already_exists  \n",
       "2551         False           False  \n",
       "4633         False           False  \n",
       "4845         False           False  \n",
       "7550         False           False  \n",
       "8431         False           False  \n",
       "10753        False           False  \n",
       "11103        False           False  \n",
       "11379        False           False  \n",
       "11806        False           False  \n",
       "12071        False           False  \n",
       "12478        False           False  \n",
       "12513        False           False  \n",
       "12753        False           False  \n",
       "12864        False           False  \n",
       "13066        False           False  \n",
       "13146        False           False  \n",
       "13869        False           False  \n",
       "13986        False           False  \n",
       "14144        False           False  \n",
       "14387        False           False  \n",
       "14494        False           False  \n",
       "14504        False           False  \n",
       "14531        False           False  \n",
       "14573        False           False  \n",
       "14699        False           False  \n",
       "15096        False           False  \n",
       "15126        False           False  \n",
       "15174        False           False  \n",
       "15257        False           False  \n",
       "15293        False           False  \n",
       "15383        False           False  \n",
       "15409        False           False  \n",
       "15466        False           False  \n",
       "15571        False           False  \n",
       "15726        False           False  \n",
       "15761        False           False  \n",
       "15792        False           False  \n",
       "15879        False           False  \n",
       "15943        False           False  \n",
       "16021        False           False  \n",
       "16188        False           False  \n",
       "16232        False           False  \n",
       "16358        False           False  "
      ]
     },
     "execution_count": 17,
     "metadata": {},
     "output_type": "execute_result"
    }
   ],
   "source": [
    "d[d['already_exists'] == False]"
   ]
  },
  {
   "cell_type": "code",
   "execution_count": null,
   "id": "ac929684",
   "metadata": {},
   "outputs": [],
   "source": []
  }
 ],
 "metadata": {
  "kernelspec": {
   "display_name": "Python 3",
   "language": "python",
   "name": "python3"
  },
  "language_info": {
   "codemirror_mode": {
    "name": "ipython",
    "version": 3
   },
   "file_extension": ".py",
   "mimetype": "text/x-python",
   "name": "python",
   "nbconvert_exporter": "python",
   "pygments_lexer": "ipython3",
   "version": "3.8.8"
  }
 },
 "nbformat": 4,
 "nbformat_minor": 5
}
